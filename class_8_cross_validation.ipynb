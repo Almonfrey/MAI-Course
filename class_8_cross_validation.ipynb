{
  "cells": [
    {
      "cell_type": "markdown",
      "metadata": {
        "id": "view-in-github",
        "colab_type": "text"
      },
      "source": [
        "<a href=\"https://colab.research.google.com/github/Almonfrey/MAI-Course/blob/main/class_8_cross_validation.ipynb\" target=\"_parent\"><img src=\"https://colab.research.google.com/assets/colab-badge.svg\" alt=\"Open In Colab\"/></a>"
      ]
    },
    {
      "cell_type": "markdown",
      "metadata": {
        "id": "hK2sNKLl8qmQ"
      },
      "source": [
        "# UCI Heart Disease — MLP Balanced Model with Cross-Validation and Detailed Metrics\n",
        "\n",
        "This notebook demonstrates building a balanced multilayer-perceptron (MLP) classifier for the **UCI Heart Disease (Cleveland)** dataset. It uses `sklearn`'s `MLPClassifier` and performs cross-validation. It reports accuracy, recall, precision, F1-score, loss function and AUC (area under ROC curve).\n",
        "\n",
        "**Goals:**\n",
        "- Provide a clean, well-documented notebook covering import, data loading, cleaning, preprocessing, modeling, evaluation, and interpretation.\n",
        "- Use cross-validation for robust model assessment, reporting mean and standard deviation for each metric (train and validation splits).\n",
        "- Compute all standard metrics on the held-out test set.\n",
        "- Explain each step thoroughly: motivation, caveats, and best practices (especially for medical data).\n",
        "\n",
        "---\n",
        "\n",
        "## Notes on usage\n",
        "- This notebook is ready to run in any Jupyter environment (Lab, Notebook, VS Code, Colab, etc.).\n",
        "- It does not execute here — run the cells in your own environment to get results and plots.\n"
      ],
      "id": "hK2sNKLl8qmQ"
    },
    {
      "cell_type": "markdown",
      "metadata": {
        "id": "ItY_CjE68qmT"
      },
      "source": [
        "## 1 — Imports and environment setup\n",
        "\n",
        "### What is done?\n",
        "- Import `pandas`, `numpy` for data handling.\n",
        "- Import `sklearn` modules for splitting, preprocessing, modeling, cross-validation, and metric computation.\n",
        "- Import `matplotlib` for plotting (if you wish to visualize ROC curves later).\n",
        "- Set up warnings filter (optional: MLP can emit convergence warnings).\n",
        "\n",
        "### Why these imports?\n",
        "- **pandas / numpy**: essential for tabular data.\n",
        "- **train_test_split, cross_val_score, StratifiedKFold**: ensure stratified splits and proper cross-validation (preserving class balance).\n",
        "- **Pipeline / ColumnTransformer**: encapsulate preprocessing steps (fit only on training data to avoid leakage).\n",
        "- **SimpleImputer, StandardScaler, OneHotEncoder**: standard preprocessing for missing values, scaling, encoding.\n",
        "- **MLPClassifier**: flexible feed-forward neural net, suitable for capturing non-linear decision boundaries.\n",
        "- **sklearn.metrics**: compute multiple evaluation metrics for robust assessment.\n"
      ],
      "id": "ItY_CjE68qmT"
    },
    {
      "cell_type": "code",
      "metadata": {
        "id": "sGsP6YH-8qmU"
      },
      "source": [
        "# 1. Import libraries\n",
        "import pandas as pd\n",
        "import numpy as np\n",
        "\n",
        "from sklearn.model_selection import train_test_split, StratifiedKFold, cross_validate\n",
        "from sklearn.pipeline import Pipeline\n",
        "from sklearn.impute import SimpleImputer\n",
        "from sklearn.preprocessing import StandardScaler, OneHotEncoder\n",
        "from sklearn.compose import ColumnTransformer\n",
        "from sklearn.neural_network import MLPClassifier\n",
        "from sklearn.metrics import accuracy_score, precision_score, recall_score, f1_score, roc_auc_score\n",
        "import matplotlib.pyplot as plt\n",
        "import warnings\n",
        "\n",
        "warnings.filterwarnings(\"ignore\", category=UserWarning)\n"
      ],
      "id": "sGsP6YH-8qmU",
      "execution_count": 1,
      "outputs": []
    },
    {
      "cell_type": "markdown",
      "metadata": {
        "id": "0MMjeZYM8qmV"
      },
      "source": [
        "## 2 — Load and inspect the UCI Heart Disease (Cleveland) dataset\n",
        "\n",
        "### Dataset notes\n",
        "- The Cleveland dataset is a standard classification benchmark. The outcome (`target`) is 0 for no disease, and 1–4 for presence (different degrees). We'll convert this to binary (0 = no, 1 = yes).\n",
        "- Missing values are represented by `?` in some columns (`ca`, `thal`)."
      ],
      "id": "0MMjeZYM8qmV"
    },
    {
      "cell_type": "code",
      "metadata": {
        "colab": {
          "base_uri": "https://localhost:8080/",
          "height": 206
        },
        "id": "71PD0CKx8qmV",
        "outputId": "e645f641-2e46-4058-88df-9686331a509c"
      },
      "source": [
        "# 2. Load the dataset\n",
        "url = \"https://archive.ics.uci.edu/ml/machine-learning-databases/heart-disease/processed.cleveland.data\"\n",
        "columns = [\n",
        "    \"age\",\"sex\",\"cp\",\"trestbps\",\"chol\",\"fbs\",\"restecg\",\"thalach\",\"exang\",\n",
        "    \"oldpeak\",\"slope\",\"ca\",\"thal\",\"target\"\n",
        "]\n",
        "df = pd.read_csv(url, names=columns)\n",
        "\n",
        "# Quick look at the raw data\n",
        "df.head()"
      ],
      "id": "71PD0CKx8qmV",
      "execution_count": 2,
      "outputs": [
        {
          "output_type": "execute_result",
          "data": {
            "text/plain": [
              "    age  sex   cp  trestbps   chol  fbs  restecg  thalach  exang  oldpeak  \\\n",
              "0  63.0  1.0  1.0     145.0  233.0  1.0      2.0    150.0    0.0      2.3   \n",
              "1  67.0  1.0  4.0     160.0  286.0  0.0      2.0    108.0    1.0      1.5   \n",
              "2  67.0  1.0  4.0     120.0  229.0  0.0      2.0    129.0    1.0      2.6   \n",
              "3  37.0  1.0  3.0     130.0  250.0  0.0      0.0    187.0    0.0      3.5   \n",
              "4  41.0  0.0  2.0     130.0  204.0  0.0      2.0    172.0    0.0      1.4   \n",
              "\n",
              "   slope   ca thal  target  \n",
              "0    3.0  0.0  6.0       0  \n",
              "1    2.0  3.0  3.0       2  \n",
              "2    2.0  2.0  7.0       1  \n",
              "3    3.0  0.0  3.0       0  \n",
              "4    1.0  0.0  3.0       0  "
            ],
            "text/html": [
              "\n",
              "  <div id=\"df-bb30b244-df6a-4167-8845-1c8533eb9c7a\" class=\"colab-df-container\">\n",
              "    <div>\n",
              "<style scoped>\n",
              "    .dataframe tbody tr th:only-of-type {\n",
              "        vertical-align: middle;\n",
              "    }\n",
              "\n",
              "    .dataframe tbody tr th {\n",
              "        vertical-align: top;\n",
              "    }\n",
              "\n",
              "    .dataframe thead th {\n",
              "        text-align: right;\n",
              "    }\n",
              "</style>\n",
              "<table border=\"1\" class=\"dataframe\">\n",
              "  <thead>\n",
              "    <tr style=\"text-align: right;\">\n",
              "      <th></th>\n",
              "      <th>age</th>\n",
              "      <th>sex</th>\n",
              "      <th>cp</th>\n",
              "      <th>trestbps</th>\n",
              "      <th>chol</th>\n",
              "      <th>fbs</th>\n",
              "      <th>restecg</th>\n",
              "      <th>thalach</th>\n",
              "      <th>exang</th>\n",
              "      <th>oldpeak</th>\n",
              "      <th>slope</th>\n",
              "      <th>ca</th>\n",
              "      <th>thal</th>\n",
              "      <th>target</th>\n",
              "    </tr>\n",
              "  </thead>\n",
              "  <tbody>\n",
              "    <tr>\n",
              "      <th>0</th>\n",
              "      <td>63.0</td>\n",
              "      <td>1.0</td>\n",
              "      <td>1.0</td>\n",
              "      <td>145.0</td>\n",
              "      <td>233.0</td>\n",
              "      <td>1.0</td>\n",
              "      <td>2.0</td>\n",
              "      <td>150.0</td>\n",
              "      <td>0.0</td>\n",
              "      <td>2.3</td>\n",
              "      <td>3.0</td>\n",
              "      <td>0.0</td>\n",
              "      <td>6.0</td>\n",
              "      <td>0</td>\n",
              "    </tr>\n",
              "    <tr>\n",
              "      <th>1</th>\n",
              "      <td>67.0</td>\n",
              "      <td>1.0</td>\n",
              "      <td>4.0</td>\n",
              "      <td>160.0</td>\n",
              "      <td>286.0</td>\n",
              "      <td>0.0</td>\n",
              "      <td>2.0</td>\n",
              "      <td>108.0</td>\n",
              "      <td>1.0</td>\n",
              "      <td>1.5</td>\n",
              "      <td>2.0</td>\n",
              "      <td>3.0</td>\n",
              "      <td>3.0</td>\n",
              "      <td>2</td>\n",
              "    </tr>\n",
              "    <tr>\n",
              "      <th>2</th>\n",
              "      <td>67.0</td>\n",
              "      <td>1.0</td>\n",
              "      <td>4.0</td>\n",
              "      <td>120.0</td>\n",
              "      <td>229.0</td>\n",
              "      <td>0.0</td>\n",
              "      <td>2.0</td>\n",
              "      <td>129.0</td>\n",
              "      <td>1.0</td>\n",
              "      <td>2.6</td>\n",
              "      <td>2.0</td>\n",
              "      <td>2.0</td>\n",
              "      <td>7.0</td>\n",
              "      <td>1</td>\n",
              "    </tr>\n",
              "    <tr>\n",
              "      <th>3</th>\n",
              "      <td>37.0</td>\n",
              "      <td>1.0</td>\n",
              "      <td>3.0</td>\n",
              "      <td>130.0</td>\n",
              "      <td>250.0</td>\n",
              "      <td>0.0</td>\n",
              "      <td>0.0</td>\n",
              "      <td>187.0</td>\n",
              "      <td>0.0</td>\n",
              "      <td>3.5</td>\n",
              "      <td>3.0</td>\n",
              "      <td>0.0</td>\n",
              "      <td>3.0</td>\n",
              "      <td>0</td>\n",
              "    </tr>\n",
              "    <tr>\n",
              "      <th>4</th>\n",
              "      <td>41.0</td>\n",
              "      <td>0.0</td>\n",
              "      <td>2.0</td>\n",
              "      <td>130.0</td>\n",
              "      <td>204.0</td>\n",
              "      <td>0.0</td>\n",
              "      <td>2.0</td>\n",
              "      <td>172.0</td>\n",
              "      <td>0.0</td>\n",
              "      <td>1.4</td>\n",
              "      <td>1.0</td>\n",
              "      <td>0.0</td>\n",
              "      <td>3.0</td>\n",
              "      <td>0</td>\n",
              "    </tr>\n",
              "  </tbody>\n",
              "</table>\n",
              "</div>\n",
              "    <div class=\"colab-df-buttons\">\n",
              "\n",
              "  <div class=\"colab-df-container\">\n",
              "    <button class=\"colab-df-convert\" onclick=\"convertToInteractive('df-bb30b244-df6a-4167-8845-1c8533eb9c7a')\"\n",
              "            title=\"Convert this dataframe to an interactive table.\"\n",
              "            style=\"display:none;\">\n",
              "\n",
              "  <svg xmlns=\"http://www.w3.org/2000/svg\" height=\"24px\" viewBox=\"0 -960 960 960\">\n",
              "    <path d=\"M120-120v-720h720v720H120Zm60-500h600v-160H180v160Zm220 220h160v-160H400v160Zm0 220h160v-160H400v160ZM180-400h160v-160H180v160Zm440 0h160v-160H620v160ZM180-180h160v-160H180v160Zm440 0h160v-160H620v160Z\"/>\n",
              "  </svg>\n",
              "    </button>\n",
              "\n",
              "  <style>\n",
              "    .colab-df-container {\n",
              "      display:flex;\n",
              "      gap: 12px;\n",
              "    }\n",
              "\n",
              "    .colab-df-convert {\n",
              "      background-color: #E8F0FE;\n",
              "      border: none;\n",
              "      border-radius: 50%;\n",
              "      cursor: pointer;\n",
              "      display: none;\n",
              "      fill: #1967D2;\n",
              "      height: 32px;\n",
              "      padding: 0 0 0 0;\n",
              "      width: 32px;\n",
              "    }\n",
              "\n",
              "    .colab-df-convert:hover {\n",
              "      background-color: #E2EBFA;\n",
              "      box-shadow: 0px 1px 2px rgba(60, 64, 67, 0.3), 0px 1px 3px 1px rgba(60, 64, 67, 0.15);\n",
              "      fill: #174EA6;\n",
              "    }\n",
              "\n",
              "    .colab-df-buttons div {\n",
              "      margin-bottom: 4px;\n",
              "    }\n",
              "\n",
              "    [theme=dark] .colab-df-convert {\n",
              "      background-color: #3B4455;\n",
              "      fill: #D2E3FC;\n",
              "    }\n",
              "\n",
              "    [theme=dark] .colab-df-convert:hover {\n",
              "      background-color: #434B5C;\n",
              "      box-shadow: 0px 1px 3px 1px rgba(0, 0, 0, 0.15);\n",
              "      filter: drop-shadow(0px 1px 2px rgba(0, 0, 0, 0.3));\n",
              "      fill: #FFFFFF;\n",
              "    }\n",
              "  </style>\n",
              "\n",
              "    <script>\n",
              "      const buttonEl =\n",
              "        document.querySelector('#df-bb30b244-df6a-4167-8845-1c8533eb9c7a button.colab-df-convert');\n",
              "      buttonEl.style.display =\n",
              "        google.colab.kernel.accessAllowed ? 'block' : 'none';\n",
              "\n",
              "      async function convertToInteractive(key) {\n",
              "        const element = document.querySelector('#df-bb30b244-df6a-4167-8845-1c8533eb9c7a');\n",
              "        const dataTable =\n",
              "          await google.colab.kernel.invokeFunction('convertToInteractive',\n",
              "                                                    [key], {});\n",
              "        if (!dataTable) return;\n",
              "\n",
              "        const docLinkHtml = 'Like what you see? Visit the ' +\n",
              "          '<a target=\"_blank\" href=https://colab.research.google.com/notebooks/data_table.ipynb>data table notebook</a>'\n",
              "          + ' to learn more about interactive tables.';\n",
              "        element.innerHTML = '';\n",
              "        dataTable['output_type'] = 'display_data';\n",
              "        await google.colab.output.renderOutput(dataTable, element);\n",
              "        const docLink = document.createElement('div');\n",
              "        docLink.innerHTML = docLinkHtml;\n",
              "        element.appendChild(docLink);\n",
              "      }\n",
              "    </script>\n",
              "  </div>\n",
              "\n",
              "\n",
              "    <div id=\"df-2e041de1-dce1-4e06-8b42-5a497705f59e\">\n",
              "      <button class=\"colab-df-quickchart\" onclick=\"quickchart('df-2e041de1-dce1-4e06-8b42-5a497705f59e')\"\n",
              "                title=\"Suggest charts\"\n",
              "                style=\"display:none;\">\n",
              "\n",
              "<svg xmlns=\"http://www.w3.org/2000/svg\" height=\"24px\"viewBox=\"0 0 24 24\"\n",
              "     width=\"24px\">\n",
              "    <g>\n",
              "        <path d=\"M19 3H5c-1.1 0-2 .9-2 2v14c0 1.1.9 2 2 2h14c1.1 0 2-.9 2-2V5c0-1.1-.9-2-2-2zM9 17H7v-7h2v7zm4 0h-2V7h2v10zm4 0h-2v-4h2v4z\"/>\n",
              "    </g>\n",
              "</svg>\n",
              "      </button>\n",
              "\n",
              "<style>\n",
              "  .colab-df-quickchart {\n",
              "      --bg-color: #E8F0FE;\n",
              "      --fill-color: #1967D2;\n",
              "      --hover-bg-color: #E2EBFA;\n",
              "      --hover-fill-color: #174EA6;\n",
              "      --disabled-fill-color: #AAA;\n",
              "      --disabled-bg-color: #DDD;\n",
              "  }\n",
              "\n",
              "  [theme=dark] .colab-df-quickchart {\n",
              "      --bg-color: #3B4455;\n",
              "      --fill-color: #D2E3FC;\n",
              "      --hover-bg-color: #434B5C;\n",
              "      --hover-fill-color: #FFFFFF;\n",
              "      --disabled-bg-color: #3B4455;\n",
              "      --disabled-fill-color: #666;\n",
              "  }\n",
              "\n",
              "  .colab-df-quickchart {\n",
              "    background-color: var(--bg-color);\n",
              "    border: none;\n",
              "    border-radius: 50%;\n",
              "    cursor: pointer;\n",
              "    display: none;\n",
              "    fill: var(--fill-color);\n",
              "    height: 32px;\n",
              "    padding: 0;\n",
              "    width: 32px;\n",
              "  }\n",
              "\n",
              "  .colab-df-quickchart:hover {\n",
              "    background-color: var(--hover-bg-color);\n",
              "    box-shadow: 0 1px 2px rgba(60, 64, 67, 0.3), 0 1px 3px 1px rgba(60, 64, 67, 0.15);\n",
              "    fill: var(--button-hover-fill-color);\n",
              "  }\n",
              "\n",
              "  .colab-df-quickchart-complete:disabled,\n",
              "  .colab-df-quickchart-complete:disabled:hover {\n",
              "    background-color: var(--disabled-bg-color);\n",
              "    fill: var(--disabled-fill-color);\n",
              "    box-shadow: none;\n",
              "  }\n",
              "\n",
              "  .colab-df-spinner {\n",
              "    border: 2px solid var(--fill-color);\n",
              "    border-color: transparent;\n",
              "    border-bottom-color: var(--fill-color);\n",
              "    animation:\n",
              "      spin 1s steps(1) infinite;\n",
              "  }\n",
              "\n",
              "  @keyframes spin {\n",
              "    0% {\n",
              "      border-color: transparent;\n",
              "      border-bottom-color: var(--fill-color);\n",
              "      border-left-color: var(--fill-color);\n",
              "    }\n",
              "    20% {\n",
              "      border-color: transparent;\n",
              "      border-left-color: var(--fill-color);\n",
              "      border-top-color: var(--fill-color);\n",
              "    }\n",
              "    30% {\n",
              "      border-color: transparent;\n",
              "      border-left-color: var(--fill-color);\n",
              "      border-top-color: var(--fill-color);\n",
              "      border-right-color: var(--fill-color);\n",
              "    }\n",
              "    40% {\n",
              "      border-color: transparent;\n",
              "      border-right-color: var(--fill-color);\n",
              "      border-top-color: var(--fill-color);\n",
              "    }\n",
              "    60% {\n",
              "      border-color: transparent;\n",
              "      border-right-color: var(--fill-color);\n",
              "    }\n",
              "    80% {\n",
              "      border-color: transparent;\n",
              "      border-right-color: var(--fill-color);\n",
              "      border-bottom-color: var(--fill-color);\n",
              "    }\n",
              "    90% {\n",
              "      border-color: transparent;\n",
              "      border-bottom-color: var(--fill-color);\n",
              "    }\n",
              "  }\n",
              "</style>\n",
              "\n",
              "      <script>\n",
              "        async function quickchart(key) {\n",
              "          const quickchartButtonEl =\n",
              "            document.querySelector('#' + key + ' button');\n",
              "          quickchartButtonEl.disabled = true;  // To prevent multiple clicks.\n",
              "          quickchartButtonEl.classList.add('colab-df-spinner');\n",
              "          try {\n",
              "            const charts = await google.colab.kernel.invokeFunction(\n",
              "                'suggestCharts', [key], {});\n",
              "          } catch (error) {\n",
              "            console.error('Error during call to suggestCharts:', error);\n",
              "          }\n",
              "          quickchartButtonEl.classList.remove('colab-df-spinner');\n",
              "          quickchartButtonEl.classList.add('colab-df-quickchart-complete');\n",
              "        }\n",
              "        (() => {\n",
              "          let quickchartButtonEl =\n",
              "            document.querySelector('#df-2e041de1-dce1-4e06-8b42-5a497705f59e button');\n",
              "          quickchartButtonEl.style.display =\n",
              "            google.colab.kernel.accessAllowed ? 'block' : 'none';\n",
              "        })();\n",
              "      </script>\n",
              "    </div>\n",
              "\n",
              "    </div>\n",
              "  </div>\n"
            ],
            "application/vnd.google.colaboratory.intrinsic+json": {
              "type": "dataframe",
              "variable_name": "df",
              "summary": "{\n  \"name\": \"df\",\n  \"rows\": 303,\n  \"fields\": [\n    {\n      \"column\": \"age\",\n      \"properties\": {\n        \"dtype\": \"number\",\n        \"std\": 9.038662442446743,\n        \"min\": 29.0,\n        \"max\": 77.0,\n        \"num_unique_values\": 41,\n        \"samples\": [\n          61.0,\n          64.0,\n          44.0\n        ],\n        \"semantic_type\": \"\",\n        \"description\": \"\"\n      }\n    },\n    {\n      \"column\": \"sex\",\n      \"properties\": {\n        \"dtype\": \"number\",\n        \"std\": 0.4672988277701313,\n        \"min\": 0.0,\n        \"max\": 1.0,\n        \"num_unique_values\": 2,\n        \"samples\": [\n          0.0,\n          1.0\n        ],\n        \"semantic_type\": \"\",\n        \"description\": \"\"\n      }\n    },\n    {\n      \"column\": \"cp\",\n      \"properties\": {\n        \"dtype\": \"number\",\n        \"std\": 0.9601256119600123,\n        \"min\": 1.0,\n        \"max\": 4.0,\n        \"num_unique_values\": 4,\n        \"samples\": [\n          4.0,\n          2.0\n        ],\n        \"semantic_type\": \"\",\n        \"description\": \"\"\n      }\n    },\n    {\n      \"column\": \"trestbps\",\n      \"properties\": {\n        \"dtype\": \"number\",\n        \"std\": 17.599747729587687,\n        \"min\": 94.0,\n        \"max\": 200.0,\n        \"num_unique_values\": 50,\n        \"samples\": [\n          124.0,\n          192.0\n        ],\n        \"semantic_type\": \"\",\n        \"description\": \"\"\n      }\n    },\n    {\n      \"column\": \"chol\",\n      \"properties\": {\n        \"dtype\": \"number\",\n        \"std\": 51.776917542637015,\n        \"min\": 126.0,\n        \"max\": 564.0,\n        \"num_unique_values\": 152,\n        \"samples\": [\n          321.0,\n          187.0\n        ],\n        \"semantic_type\": \"\",\n        \"description\": \"\"\n      }\n    },\n    {\n      \"column\": \"fbs\",\n      \"properties\": {\n        \"dtype\": \"number\",\n        \"std\": 0.35619787492797594,\n        \"min\": 0.0,\n        \"max\": 1.0,\n        \"num_unique_values\": 2,\n        \"samples\": [\n          0.0,\n          1.0\n        ],\n        \"semantic_type\": \"\",\n        \"description\": \"\"\n      }\n    },\n    {\n      \"column\": \"restecg\",\n      \"properties\": {\n        \"dtype\": \"number\",\n        \"std\": 0.9949712915251797,\n        \"min\": 0.0,\n        \"max\": 2.0,\n        \"num_unique_values\": 3,\n        \"samples\": [\n          2.0,\n          0.0\n        ],\n        \"semantic_type\": \"\",\n        \"description\": \"\"\n      }\n    },\n    {\n      \"column\": \"thalach\",\n      \"properties\": {\n        \"dtype\": \"number\",\n        \"std\": 22.875003276980376,\n        \"min\": 71.0,\n        \"max\": 202.0,\n        \"num_unique_values\": 91,\n        \"samples\": [\n          170.0,\n          114.0\n        ],\n        \"semantic_type\": \"\",\n        \"description\": \"\"\n      }\n    },\n    {\n      \"column\": \"exang\",\n      \"properties\": {\n        \"dtype\": \"number\",\n        \"std\": 0.46979446452231716,\n        \"min\": 0.0,\n        \"max\": 1.0,\n        \"num_unique_values\": 2,\n        \"samples\": [\n          1.0,\n          0.0\n        ],\n        \"semantic_type\": \"\",\n        \"description\": \"\"\n      }\n    },\n    {\n      \"column\": \"oldpeak\",\n      \"properties\": {\n        \"dtype\": \"number\",\n        \"std\": 1.161075022068634,\n        \"min\": 0.0,\n        \"max\": 6.2,\n        \"num_unique_values\": 40,\n        \"samples\": [\n          2.4,\n          0.2\n        ],\n        \"semantic_type\": \"\",\n        \"description\": \"\"\n      }\n    },\n    {\n      \"column\": \"slope\",\n      \"properties\": {\n        \"dtype\": \"number\",\n        \"std\": 0.6162261453459627,\n        \"min\": 1.0,\n        \"max\": 3.0,\n        \"num_unique_values\": 3,\n        \"samples\": [\n          3.0,\n          2.0\n        ],\n        \"semantic_type\": \"\",\n        \"description\": \"\"\n      }\n    },\n    {\n      \"column\": \"ca\",\n      \"properties\": {\n        \"dtype\": \"category\",\n        \"num_unique_values\": 5,\n        \"samples\": [\n          \"3.0\",\n          \"?\"\n        ],\n        \"semantic_type\": \"\",\n        \"description\": \"\"\n      }\n    },\n    {\n      \"column\": \"thal\",\n      \"properties\": {\n        \"dtype\": \"category\",\n        \"num_unique_values\": 4,\n        \"samples\": [\n          \"3.0\",\n          \"?\"\n        ],\n        \"semantic_type\": \"\",\n        \"description\": \"\"\n      }\n    },\n    {\n      \"column\": \"target\",\n      \"properties\": {\n        \"dtype\": \"number\",\n        \"std\": 1,\n        \"min\": 0,\n        \"max\": 4,\n        \"num_unique_values\": 5,\n        \"samples\": [\n          2,\n          4\n        ],\n        \"semantic_type\": \"\",\n        \"description\": \"\"\n      }\n    }\n  ]\n}"
            }
          },
          "metadata": {},
          "execution_count": 2
        }
      ]
    },
    {
      "cell_type": "markdown",
      "metadata": {
        "id": "yY2zPWCJ8qmV"
      },
      "source": [
        "## 3 — Data cleaning\n",
        "\n",
        "### What is done?\n",
        "- Replace `?` with `np.nan` for missing values.\n",
        "- Convert all columns to numeric; any non-numeric becomes `NaN`.\n",
        "- Convert `target` to binary: 0 (no disease), 1 (any disease: 1–4).\n",
        "- Print missing value counts for transparency.\n",
        "\n",
        "### Why?\n",
        "- Many ML tools require numeric types; converting ensures correct preprocessing.\n",
        "- Binary target simplifies the problem to disease presence/absence (most common clinical framing).\n",
        "- Knowing missingness guides imputation choices.\n"
      ],
      "id": "yY2zPWCJ8qmV"
    },
    {
      "cell_type": "code",
      "metadata": {
        "colab": {
          "base_uri": "https://localhost:8080/"
        },
        "id": "_cgywa_U8qmW",
        "outputId": "19495060-51ca-49c6-9de8-565cff709569"
      },
      "source": [
        "# 3. Clean missing values and convert types\n",
        "df.replace(\"?\", np.nan, inplace=True)\n",
        "for col in df.columns:\n",
        "    df[col] = pd.to_numeric(df[col], errors='coerce')\n",
        "\n",
        "print(\"Missing values per column:\\n\", df.isnull().sum())\n",
        "\n",
        "# Convert target to binary\n",
        "df['target'] = df['target'].replace({1:1, 2:1, 3:1, 4:1})\n",
        "# Optional: show class balance\n",
        "print(\"Target class balance:\\n\", df['target'].value_counts(normalize=True))"
      ],
      "id": "_cgywa_U8qmW",
      "execution_count": 3,
      "outputs": [
        {
          "output_type": "stream",
          "name": "stdout",
          "text": [
            "Missing values per column:\n",
            " age         0\n",
            "sex         0\n",
            "cp          0\n",
            "trestbps    0\n",
            "chol        0\n",
            "fbs         0\n",
            "restecg     0\n",
            "thalach     0\n",
            "exang       0\n",
            "oldpeak     0\n",
            "slope       0\n",
            "ca          4\n",
            "thal        2\n",
            "target      0\n",
            "dtype: int64\n",
            "Target class balance:\n",
            " target\n",
            "0    0.541254\n",
            "1    0.458746\n",
            "Name: proportion, dtype: float64\n"
          ]
        }
      ]
    },
    {
      "cell_type": "markdown",
      "metadata": {
        "id": "2o2ncWzV8qmW"
      },
      "source": [
        "## 4 — Feature/target separation\n",
        "\n",
        "### What is done?\n",
        "- Separate predictors (`X`) and outcome (`y`).\n",
        "- This is a standard step for supervised learning."
      ],
      "id": "2o2ncWzV8qmW"
    },
    {
      "cell_type": "code",
      "metadata": {
        "id": "8x7kGnVC8qmW"
      },
      "source": [
        "# 4. Split features and target\n",
        "X = df.drop('target', axis=1)\n",
        "y = df['target']"
      ],
      "id": "8x7kGnVC8qmW",
      "execution_count": 4,
      "outputs": []
    },
    {
      "cell_type": "markdown",
      "metadata": {
        "id": "5625zc-d8qmW"
      },
      "source": [
        "## 5 — Identify categorical and numerical columns\n",
        "\n",
        "### What is done?\n",
        "- Identify columns to be treated as categorical (for one-hot encoding).\n",
        "- All others are treated as numerical.\n",
        "\n",
        "### Why?\n",
        "- Proper encoding/scaling improves neural network performance and prevents misleading relationships (e.g., treating categories as continuous).\n",
        "- The columns chosen (`cp`, `restecg`, `slope`, `ca`, `thal`) are discrete/categorical by nature."
      ],
      "id": "5625zc-d8qmW"
    },
    {
      "cell_type": "code",
      "metadata": {
        "id": "whZ6sY8q8qmW"
      },
      "source": [
        "# 5. Categorical and numerical columns\n",
        "cat_cols = ['cp', 'restecg', 'slope', 'ca', 'thal']\n",
        "num_cols = [col for col in X.columns if col not in cat_cols]\n"
      ],
      "id": "whZ6sY8q8qmW",
      "execution_count": 5,
      "outputs": []
    },
    {
      "cell_type": "markdown",
      "metadata": {
        "id": "WV06lJEd8qmX"
      },
      "source": [
        "## 6 — Train/test split\n",
        "\n",
        "### What is done?\n",
        "- Split dataset into training and test sets (70%/30%), stratifying by outcome (`y`).\n",
        "- Set a fixed random state for reproducibility.\n",
        "\n",
        "### Why?\n",
        "- Stratification preserves class balance, important for medical datasets (often imbalanced).\n",
        "- The test set provides an unbiased evaluation after hyperparameter selection and cross-validation."
      ],
      "id": "WV06lJEd8qmX"
    },
    {
      "cell_type": "code",
      "metadata": {
        "id": "l12XVxPH8qmX"
      },
      "source": [
        "# 6. Train/test split\n",
        "X_train, X_test, y_train, y_test = train_test_split(\n",
        "    X, y, test_size=0.3, stratify=y, random_state=42\n",
        ")"
      ],
      "id": "l12XVxPH8qmX",
      "execution_count": 6,
      "outputs": []
    },
    {
      "cell_type": "markdown",
      "metadata": {
        "id": "9aoUR1W48qmY"
      },
      "source": [
        "## 7 — Build preprocessing pipeline\n",
        "\n",
        "### What is done?\n",
        "- Construct a `ColumnTransformer` to apply the right preprocessing to each column type (numerical/categorical).\n",
        "- Numerical: impute missing values (mean), scale (zero mean, unit variance).\n",
        "- Categorical: impute missing values (most frequent), one-hot encode.\n",
        "\n",
        "### Why?\n",
        "- Ensures consistent, reproducible preprocessing.\n",
        "- Prevents information leakage from the test set.\n",
        "- Proper scaling and encoding are crucial for neural network convergence and performance."
      ],
      "id": "9aoUR1W48qmY"
    },
    {
      "cell_type": "code",
      "metadata": {
        "id": "InXtTDRI8qmY"
      },
      "source": [
        "# 7. Preprocessing pipeline\n",
        "preprocessor = ColumnTransformer([\n",
        "    ('num', Pipeline([\n",
        "        ('imputer', SimpleImputer(strategy='mean')),\n",
        "        ('scaler', StandardScaler())\n",
        "    ]), num_cols),\n",
        "    ('cat', Pipeline([\n",
        "        ('imputer', SimpleImputer(strategy='most_frequent')),\n",
        "        ('onehot', OneHotEncoder(handle_unknown='ignore'))\n",
        "    ]), cat_cols)\n",
        "])"
      ],
      "id": "InXtTDRI8qmY",
      "execution_count": 7,
      "outputs": []
    },
    {
      "cell_type": "markdown",
      "metadata": {
        "id": "wZLUdz3N8qmY"
      },
      "source": [
        "## 8 — Define the balanced MLP model\n",
        "\n",
        "### What is done?\n",
        "- Specify an MLPClassifier with balanced settings:\n",
        "  - `hidden_layer_sizes=(30,)` (single hidden layer, 30 neurons)\n",
        "  - `alpha=0.01` (L2 regularization)\n",
        "  - `solver='adam'`, `learning_rate_init=0.001`\n",
        "  - `max_iter=300` (enough for convergence)\n",
        "- Combine with preprocessing pipeline.\n",
        "\n",
        "### Why?\n",
        "- These settings are a reasonable default for small medical datasets, balancing capacity and regularization.\n",
        "- The pipeline ensures all steps are fit only on training data during cross-validation."
      ],
      "id": "wZLUdz3N8qmY"
    },
    {
      "cell_type": "code",
      "metadata": {
        "id": "StdqCghe8qmY"
      },
      "source": [
        "# 8. Balanced MLP pipeline\n",
        "mlp = MLPClassifier(\n",
        "    hidden_layer_sizes=(30,),\n",
        "    alpha=0.01,\n",
        "    learning_rate_init=0.001,\n",
        "    solver='adam',\n",
        "    max_iter=300,\n",
        "    random_state=42\n",
        ")\n",
        "\n",
        "pipe = Pipeline([\n",
        "    ('preprocessor', preprocessor),\n",
        "    ('classifier', mlp)\n",
        "])"
      ],
      "id": "StdqCghe8qmY",
      "execution_count": 8,
      "outputs": []
    },
    {
      "cell_type": "markdown",
      "metadata": {
        "id": "M-TozxMd8qmY"
      },
      "source": [
        "## 9 — Cross-validation: average and std for metrics\n",
        "\n",
        "### What is done?\n",
        "- Perform 5-fold stratified cross-validation on the training set using `cross_validate`.\n",
        "- Track multiple metrics: accuracy, precision, recall, F1-score, and ROC AUC.\n",
        "- Report mean and standard deviation for each metric (train and validation splits).\n",
        "\n",
        "### Why?\n",
        "- Cross-validation provides a robust estimate of generalization (not just a single split).\n",
        "- Using multiple metrics captures different aspects of performance:\n",
        "  - **Accuracy**: overall rate of correct predictions.\n",
        "  - **Recall (Sensitivity)**: ability to identify positive cases (important in medical contexts).\n",
        "  - **Precision**: probability that a positive prediction is correct.\n",
        "  - **F1-score**: harmonic mean of precision and recall (balances trade-off).\n",
        "  - **ROC AUC**: ability to rank positives above negatives (threshold-independent).\n",
        "- Reporting both mean and standard deviation shows stability and reliability of the model across splits."
      ],
      "id": "M-TozxMd8qmY"
    },
    {
      "cell_type": "code",
      "metadata": {
        "colab": {
          "base_uri": "https://localhost:8080/"
        },
        "id": "2Ji8OfsY8qmZ",
        "outputId": "471fafbb-cf62-4042-df11-75587af8ee72"
      },
      "source": [
        "# 9. Cross-validation on train set\n",
        "cv = StratifiedKFold(n_splits=5, shuffle=True, random_state=42)\n",
        "metrics = ['accuracy', 'precision', 'recall', 'f1', 'roc_auc']\n",
        "cv_results = cross_validate(\n",
        "    pipe, X_train, y_train,\n",
        "    cv=cv,\n",
        "    scoring=metrics,\n",
        "    return_train_score=True\n",
        ")\n",
        "\n",
        "# Helper to print mean and std for each metric\n",
        "def print_cv_table(results, metrics):\n",
        "    print(\"\\nCross-validation results (5 folds):\")\n",
        "    print(f\"{'Metric':<12} {'Train Mean':>12} {'Train Std':>12} {'Val Mean':>12} {'Val Std':>12}\")\n",
        "    for m in metrics:\n",
        "        train_scores = results[f'train_{m}']\n",
        "        val_scores = results[f'test_{m}']\n",
        "        print(f\"{m:<12} {np.mean(train_scores):12.3f} {np.std(train_scores):12.3f} {np.mean(val_scores):12.3f} {np.std(val_scores):12.3f}\")\n",
        "\n",
        "print_cv_table(cv_results, metrics)"
      ],
      "id": "2Ji8OfsY8qmZ",
      "execution_count": 9,
      "outputs": [
        {
          "output_type": "stream",
          "name": "stdout",
          "text": [
            "\n",
            "Cross-validation results (5 folds):\n",
            "Metric         Train Mean    Train Std     Val Mean      Val Std\n",
            "accuracy            0.919        0.013        0.825        0.054\n",
            "precision           0.926        0.026        0.819        0.085\n",
            "recall              0.894        0.009        0.804        0.060\n",
            "f1                  0.910        0.013        0.809        0.055\n",
            "roc_auc             0.974        0.006        0.899        0.038\n"
          ]
        }
      ]
    },
    {
      "cell_type": "markdown",
      "metadata": {
        "id": "pVxRGyzQ8qmZ"
      },
      "source": [
        "## 10 — Fit on train, evaluate on held-out test set\n",
        "\n",
        "### What is done?\n",
        "- Fit the pipeline on the whole training set (including cross-validation folds).\n",
        "- Predict on the held-out test set.\n",
        "- Compute and report accuracy, precision, recall, F1-score, and ROC AUC for the test set.\n",
        "\n",
        "### Why?\n",
        "- Test set evaluation gives an unbiased estimate of real-world performance after tuning/hyperparameter selection.\n",
        "- Reporting all metrics highlights strengths/weaknesses (e.g., high accuracy but low recall = misses positives).\n"
      ],
      "id": "pVxRGyzQ8qmZ"
    },
    {
      "cell_type": "code",
      "metadata": {
        "colab": {
          "base_uri": "https://localhost:8080/"
        },
        "id": "D4x_scTv8qmZ",
        "outputId": "56be5633-b576-452b-bae6-5e5a6c76121a"
      },
      "source": [
        "# 10. Fit and evaluate on test set\n",
        "pipe.fit(X_train, y_train)\n",
        "y_pred = pipe.predict(X_test)\n",
        "y_proba = pipe.predict_proba(X_test)[:, 1]\n",
        "\n",
        "test_metrics = {\n",
        "    'Accuracy': accuracy_score(y_test, y_pred),\n",
        "    'Precision': precision_score(y_test, y_pred),\n",
        "    'Recall': recall_score(y_test, y_pred),\n",
        "    'F1-score': f1_score(y_test, y_pred),\n",
        "    'ROC AUC': roc_auc_score(y_test, y_proba)\n",
        "}\n",
        "\n",
        "print(\"\\nTest set metrics:\")\n",
        "for k, v in test_metrics.items():\n",
        "    print(f\"{k:<10}: {v:.3f}\")"
      ],
      "id": "D4x_scTv8qmZ",
      "execution_count": 10,
      "outputs": [
        {
          "output_type": "stream",
          "name": "stdout",
          "text": [
            "\n",
            "Test set metrics:\n",
            "Accuracy  : 0.879\n",
            "Precision : 0.878\n",
            "Recall    : 0.857\n",
            "F1-score  : 0.867\n",
            "ROC AUC   : 0.948\n"
          ]
        }
      ]
    },
    {
      "cell_type": "markdown",
      "metadata": {
        "id": "XvUrOtM48qma"
      },
      "source": [
        "## 11 — Interpreting the results & next steps\n",
        "\n",
        "### What do the metrics tell us?\n",
        "- **Accuracy**: Proportion of all correct predictions (positive and negative). May be misleading if classes are imbalanced.\n",
        "- **Precision**: Of all predicted positives, what fraction were correct? High precision means few false positives.\n",
        "- **Recall (Sensitivity)**: Of all actual positives, what fraction did we find? High recall means few false negatives (important in medical screening).\n",
        "- **F1-score**: Balances precision and recall. Useful when both are important.\n",
        "- **ROC AUC**: Measures the ability to rank positives above negatives across all thresholds. Useful for comparing models independent of chosen threshold.\n",
        "\n",
        "### What next?\n",
        "- If you need to improve recall (find more positives), try tuning the model (e.g., changing `alpha`, hidden layer size, or class_weight).\n",
        "- If precision is low, it may mean the model is over-predicting positives (can adjust threshold or tune regularization).\n",
        "- Consider other models (e.g., logistic regression, tree-based) for comparison.\n",
        "- In medical contexts, sometimes recall (sensitivity) is prioritized over precision, depending on the application (screening vs. diagnosis).\n",
        "- Always validate findings with external data and consider clinical relevance of each metric.\n",
        "\n",
        "### Visualization (optional)\n",
        "- You may plot ROC curves or confusion matrices for further insight."
      ],
      "id": "XvUrOtM48qma"
    }
  ],
  "metadata": {
    "kernelspec": {
      "display_name": "Python 3",
      "language": "python",
      "name": "python3"
    },
    "language_info": {
      "name": "python",
      "version": ""
    },
    "colab": {
      "provenance": [],
      "include_colab_link": true
    }
  },
  "nbformat": 4,
  "nbformat_minor": 5
}
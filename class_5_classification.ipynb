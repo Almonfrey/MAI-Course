{
  "nbformat": 4,
  "nbformat_minor": 0,
  "metadata": {
    "colab": {
      "provenance": [],
      "authorship_tag": "ABX9TyOvSM8fAfGBdLTFDPDFfuBM",
      "include_colab_link": true
    },
    "kernelspec": {
      "name": "python3",
      "display_name": "Python 3"
    },
    "language_info": {
      "name": "python"
    }
  },
  "cells": [
    {
      "cell_type": "markdown",
      "metadata": {
        "id": "view-in-github",
        "colab_type": "text"
      },
      "source": [
        "<a href=\"https://colab.research.google.com/github/Almonfrey/MAI-Course/blob/main/class_6_classification.ipynb\" target=\"_parent\"><img src=\"https://colab.research.google.com/assets/colab-badge.svg\" alt=\"Open In Colab\"/></a>"
      ]
    },
    {
      "cell_type": "code",
      "source": [
        "# Import libraries\n",
        "from ucimlrepo import fetch_ucirepo\n",
        "import pandas as pd"
      ],
      "metadata": {
        "id": "Cqu3W-XQt0uK"
      },
      "execution_count": 19,
      "outputs": []
    },
    {
      "cell_type": "code",
      "source": [
        "# fetch dataset\n",
        "german_credit_data = fetch_ucirepo(id=144)\n",
        "\n",
        "# data (as pandas dataframes)\n",
        "X = german_credit_data.data.features\n",
        "y = german_credit_data.data.targets\n",
        "\n",
        "# variable information\n",
        "print(german_credit_data.variables)\n"
      ],
      "metadata": {
        "colab": {
          "base_uri": "https://localhost:8080/"
        },
        "id": "o3xPqX6ysp_q",
        "outputId": "8d8d136d-d3a5-43eb-ebce-364c8e671915"
      },
      "execution_count": 33,
      "outputs": [
        {
          "output_type": "stream",
          "name": "stdout",
          "text": [
            "           name     role         type     demographic  \\\n",
            "0    Attribute1  Feature  Categorical            None   \n",
            "1    Attribute2  Feature      Integer            None   \n",
            "2    Attribute3  Feature  Categorical            None   \n",
            "3    Attribute4  Feature  Categorical            None   \n",
            "4    Attribute5  Feature      Integer            None   \n",
            "5    Attribute6  Feature  Categorical            None   \n",
            "6    Attribute7  Feature  Categorical           Other   \n",
            "7    Attribute8  Feature      Integer            None   \n",
            "8    Attribute9  Feature  Categorical  Marital Status   \n",
            "9   Attribute10  Feature  Categorical            None   \n",
            "10  Attribute11  Feature      Integer            None   \n",
            "11  Attribute12  Feature  Categorical            None   \n",
            "12  Attribute13  Feature      Integer             Age   \n",
            "13  Attribute14  Feature  Categorical            None   \n",
            "14  Attribute15  Feature  Categorical           Other   \n",
            "15  Attribute16  Feature      Integer            None   \n",
            "16  Attribute17  Feature  Categorical      Occupation   \n",
            "17  Attribute18  Feature      Integer            None   \n",
            "18  Attribute19  Feature       Binary            None   \n",
            "19  Attribute20  Feature       Binary           Other   \n",
            "20        class   Target       Binary            None   \n",
            "\n",
            "                                          description   units missing_values  \n",
            "0                 Status of existing checking account    None             no  \n",
            "1                                            Duration  months             no  \n",
            "2                                      Credit history    None             no  \n",
            "3                                             Purpose    None             no  \n",
            "4                                       Credit amount    None             no  \n",
            "5                               Savings account/bonds    None             no  \n",
            "6                            Present employment since    None             no  \n",
            "7   Installment rate in percentage of disposable i...    None             no  \n",
            "8                             Personal status and sex    None             no  \n",
            "9                          Other debtors / guarantors    None             no  \n",
            "10                            Present residence since    None             no  \n",
            "11                                           Property    None             no  \n",
            "12                                                Age   years             no  \n",
            "13                            Other installment plans    None             no  \n",
            "14                                            Housing    None             no  \n",
            "15            Number of existing credits at this bank    None             no  \n",
            "16                                                Job    None             no  \n",
            "17  Number of people being liable to provide maint...    None             no  \n",
            "18                                          Telephone    None             no  \n",
            "19                                     foreign worker    None             no  \n",
            "20                                  1 = Good, 2 = Bad    None             no  \n"
          ]
        }
      ]
    },
    {
      "cell_type": "code",
      "source": [
        "# Taking a look at data\n",
        "# Features\n",
        "print(X[0:3])\n",
        "# Labels\n",
        "print(y[0:3])"
      ],
      "metadata": {
        "colab": {
          "base_uri": "https://localhost:8080/"
        },
        "id": "_m7WykSRw43n",
        "outputId": "8bb76674-a941-435b-c2eb-804324b08f10"
      },
      "execution_count": 36,
      "outputs": [
        {
          "output_type": "stream",
          "name": "stdout",
          "text": [
            "  Attribute1  Attribute2 Attribute3 Attribute4  Attribute5 Attribute6  \\\n",
            "0        A11           6        A34        A43        1169        A65   \n",
            "1        A12          48        A32        A43        5951        A61   \n",
            "2        A14          12        A34        A46        2096        A61   \n",
            "\n",
            "  Attribute7  Attribute8 Attribute9 Attribute10  Attribute11 Attribute12  \\\n",
            "0        A75           4        A93        A101            4        A121   \n",
            "1        A73           2        A92        A101            2        A121   \n",
            "2        A74           2        A93        A101            3        A121   \n",
            "\n",
            "   Attribute13 Attribute14 Attribute15  Attribute16 Attribute17  Attribute18  \\\n",
            "0           67        A143        A152            2        A173            1   \n",
            "1           22        A143        A152            1        A173            1   \n",
            "2           49        A143        A152            1        A172            2   \n",
            "\n",
            "  Attribute19 Attribute20  \n",
            "0        A192        A201  \n",
            "1        A191        A201  \n",
            "2        A191        A201  \n",
            "   class\n",
            "0      1\n",
            "1      2\n",
            "2      1\n"
          ]
        }
      ]
    }
  ]
}

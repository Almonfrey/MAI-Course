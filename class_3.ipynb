{
  "cells": [
    {
      "cell_type": "markdown",
      "metadata": {
        "id": "view-in-github",
        "colab_type": "text"
      },
      "source": [
        "<a href=\"https://colab.research.google.com/github/Almonfrey/MAI-Course/blob/main/class_3.ipynb\" target=\"_parent\"><img src=\"https://colab.research.google.com/assets/colab-badge.svg\" alt=\"Open In Colab\"/></a>"
      ]
    },
    {
      "cell_type": "markdown",
      "id": "4c4da94e",
      "metadata": {
        "id": "4c4da94e"
      },
      "source": [
        "# Python Basics for AI Students\n",
        "Welcome to this Python introduction for beginners in Artificial Intelligence. This notebook will cover all the basic programming concepts you need to get started."
      ]
    },
    {
      "cell_type": "markdown",
      "id": "634e75b0",
      "metadata": {
        "id": "634e75b0"
      },
      "source": [
        "## 1. Variables and Data Types\n",
        "Variables store information that can be used and manipulated. Python is dynamically typed, meaning you don't need to declare types explicitly."
      ]
    },
    {
      "cell_type": "code",
      "execution_count": null,
      "id": "9d8f1a10",
      "metadata": {
        "id": "9d8f1a10"
      },
      "outputs": [],
      "source": [
        "# Integer\n",
        "x = 10\n",
        "\n",
        "# Float\n",
        "pi = 3.14\n",
        "\n",
        "# String\n",
        "name = \"Alice\"\n",
        "\n",
        "# Boolean\n",
        "is_student = True\n",
        "\n",
        "print(\"x:\", x)\n",
        "print(\"pi:\", pi)\n",
        "print(\"name:\", name)\n",
        "print(\"is_student:\", is_student)"
      ]
    },
    {
      "cell_type": "markdown",
      "id": "7279ec7c",
      "metadata": {
        "id": "7279ec7c"
      },
      "source": [
        "## 2. Input and Output\n",
        "Input and output are used to interact with users. Use `input()` to get input from the user and `print()` to display output."
      ]
    },
    {
      "cell_type": "code",
      "execution_count": null,
      "id": "87172ef7",
      "metadata": {
        "id": "87172ef7"
      },
      "outputs": [],
      "source": [
        "name = input(\"What is your name? \")\n",
        "print(\"Hello,\", name)"
      ]
    },
    {
      "cell_type": "markdown",
      "id": "237dd295",
      "metadata": {
        "id": "237dd295"
      },
      "source": [
        "## 3. Operators and Expressions\n",
        "Operators are used to perform operations on variables and values."
      ]
    },
    {
      "cell_type": "code",
      "execution_count": null,
      "id": "ed734955",
      "metadata": {
        "id": "ed734955"
      },
      "outputs": [],
      "source": [
        "a = 10\n",
        "b = 3\n",
        "\n",
        "# Arithmetic Operators\n",
        "print(\"Addition:\", a + b)\n",
        "print(\"Subtraction:\", a - b)\n",
        "print(\"Multiplication:\", a * b)\n",
        "print(\"Division:\", a / b)\n",
        "print(\"Modulus:\", a % b)\n",
        "print(\"Exponentiation:\", a ** b)\n",
        "\n",
        "# Comparison Operators\n",
        "print(\"a == b:\", a == b)\n",
        "print(\"a > b:\", a > b)\n",
        "\n",
        "# Logical Operators\n",
        "print(\"a > 5 and b < 5:\", a > 5 and b < 5)"
      ]
    },
    {
      "cell_type": "markdown",
      "id": "25d841d5",
      "metadata": {
        "id": "25d841d5"
      },
      "source": [
        "## 4. Control Flow\n",
        "Control structures allow us to make decisions and repeat actions. Python supports `if`, `for`, and `while` statements."
      ]
    },
    {
      "cell_type": "code",
      "execution_count": null,
      "id": "84b2ae6f",
      "metadata": {
        "id": "84b2ae6f"
      },
      "outputs": [],
      "source": [
        "# Conditional Statements\n",
        "age = int(input(\"Enter your age: \"))\n",
        "if age >= 18:\n",
        "    print(\"You are an adult.\")\n",
        "else:\n",
        "    print(\"You are a minor.\")\n",
        "\n",
        "# Loops\n",
        "print(\"Counting from 0 to 4:\")\n",
        "for i in range(5):\n",
        "    print(i)"
      ]
    },
    {
      "cell_type": "markdown",
      "id": "0c7d02db",
      "metadata": {
        "id": "0c7d02db"
      },
      "source": [
        "## 5. Data Structures\n",
        "Python provides built-in data structures like lists, tuples, and dictionaries for storing and manipulating collections of data."
      ]
    },
    {
      "cell_type": "code",
      "execution_count": null,
      "id": "102bded5",
      "metadata": {
        "id": "102bded5"
      },
      "outputs": [],
      "source": [
        "# List (mutable)\n",
        "fruits = [\"apple\", \"banana\", \"cherry\"]\n",
        "print(\"First fruit:\", fruits[0])\n",
        "\n",
        "# Tuple (immutable)\n",
        "point = (10, 20)\n",
        "print(\"X coordinate:\", point[0])\n",
        "\n",
        "# Dictionary (key-value)\n",
        "person = {\"name\": \"Alice\", \"age\": 25}\n",
        "print(\"Name:\", person[\"name\"])"
      ]
    },
    {
      "cell_type": "markdown",
      "id": "337176cc",
      "metadata": {
        "id": "337176cc"
      },
      "source": [
        "## 6. Functions\n",
        "Functions are blocks of code designed to perform a specific task. They help organize and reuse code."
      ]
    },
    {
      "cell_type": "code",
      "execution_count": null,
      "id": "8fadcf41",
      "metadata": {
        "id": "8fadcf41"
      },
      "outputs": [],
      "source": [
        "def greet(name):\n",
        "    return \"Hello, \" + name\n",
        "\n",
        "print(greet(\"Bob\"))"
      ]
    },
    {
      "cell_type": "markdown",
      "id": "c84e9df2",
      "metadata": {
        "id": "c84e9df2"
      },
      "source": [
        "## 7. Object-Oriented Programming\n",
        "OOP allows structuring programs using classes and objects. It's a powerful way to model real-world entities."
      ]
    },
    {
      "cell_type": "code",
      "execution_count": null,
      "id": "b2ca3de0",
      "metadata": {
        "id": "b2ca3de0"
      },
      "outputs": [],
      "source": [
        "class Student:\n",
        "    def __init__(self, name, grade):\n",
        "        self.name = name\n",
        "        self.grade = grade\n",
        "\n",
        "    def get_info(self):\n",
        "        return f\"{self.name} has grade {self.grade}\"\n",
        "\n",
        "s = Student(\"Alice\", 90)\n",
        "print(s.get_info())"
      ]
    }
  ],
  "metadata": {
    "colab": {
      "provenance": [],
      "include_colab_link": true
    }
  },
  "nbformat": 4,
  "nbformat_minor": 5
}
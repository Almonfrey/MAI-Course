{
  "cells": [
    {
      "cell_type": "markdown",
      "metadata": {
        "id": "view-in-github",
        "colab_type": "text"
      },
      "source": [
        "<a href=\"https://colab.research.google.com/github/Almonfrey/MAI-Course/blob/main/class_3.ipynb\" target=\"_parent\"><img src=\"https://colab.research.google.com/assets/colab-badge.svg\" alt=\"Open In Colab\"/></a>"
      ]
    },
    {
      "cell_type": "markdown",
      "id": "4c4da94e",
      "metadata": {
        "id": "4c4da94e"
      },
      "source": [
        "# Python for Low-Code Artificial Intelligence Model Training\n",
        "This notebook introduces fundamental Python programming concepts tailored for students beginning their studies in Artificial Intelligence. It covers the basics such as data types, variables, control flow, input and output, files, functions, and object-oriented programming, using clear and practical examples. These foundational skills are essential for understanding and developing AI models in later stages.\n",
        "\n",
        "## Table of Contents\n",
        "\n",
        "* Introduction to Python for AI.\n",
        "\n",
        "* Python Basics: Data Types.\n",
        "\n",
        "* Variables and Constants.\n",
        "\n",
        "* Operators and Expressions.\n",
        "\n",
        "* Input and Output in Python.\n",
        "\n",
        "* Python Data Structures: Lists, Dictionaries, NumPy Arrays and Pandas Dataframes.\n",
        "\n",
        "* Control Flow: Conditionals and Loops.\n",
        "\n",
        "* Files Input ad Output.\n",
        "\n",
        "* Functions in Python.\n",
        "\n",
        "* Classes and Objects (Brief Introduction)."
      ]
    },
    {
      "cell_type": "markdown",
      "source": [
        "# 1. Introduction to Python for AI\n",
        "Python is a versatile and widely-used programming language, particularly well-suited for students and professionals working in Artificial Intelligence. Its simplicity, readability, and strong ecosystem make it ideal for building a solid programming foundation.\n",
        "\n",
        "This notebook focuses on core Python concepts that will prepare you to work confidently with code in future AI applications, especially when using low-code tools and frameworks. The emphasis is on understanding the language itself—its syntax, logic, and structure—through clear and practical examples.\n",
        "\n"
      ],
      "metadata": {
        "id": "19ncOm2PWkO6"
      },
      "id": "19ncOm2PWkO6"
    },
    {
      "cell_type": "markdown",
      "id": "634e75b0",
      "metadata": {
        "id": "634e75b0"
      },
      "source": [
        "## 2. Python Basics: Data Types and Variables\n",
        "Understanding how Python handles data is crucial.\n",
        "\n",
        "**Data Types**\n",
        "Python automatically infers the data type based on the value assigned. Common data types include:\n",
        "\n",
        "* Integers (int): Whole numbers (e.g., 10, -5).\n",
        "\n",
        "* Floating-point numbers (float): Numbers with decimal points (e.g., 3.14, -0.5).\n",
        "\n",
        "* Strings (str): Sequences of characters (e.g., 'hello', \"AI\").\n",
        "\n",
        "* Booleans (bool): True or False values (e.g., True, False).\n",
        "\n",
        "**Variables**\n",
        " Are names assigned to memory locations used to store data. They are represented by identifiers and can hold values that may change during the execution of a program."
      ]
    },
    {
      "cell_type": "code",
      "execution_count": 1,
      "id": "9d8f1a10",
      "metadata": {
        "id": "9d8f1a10",
        "colab": {
          "base_uri": "https://localhost:8080/"
        },
        "outputId": "c9f3b600-58e1-451f-af75-c0d1a39df595"
      },
      "outputs": [
        {
          "output_type": "stream",
          "name": "stdout",
          "text": [
            "Variable: age, Value: 37, Type: <class 'int'>\n",
            "Variable: salary, Value: 100.0, Type: <class 'float'>\n",
            "Variable: name, Value: John, Type: <class 'str'>\n",
            "Variable: is_happy, Value: True, Type: <class 'bool'>\n"
          ]
        }
      ],
      "source": [
        "# Create an integer variable for age\n",
        "age = 37\n",
        "\n",
        "# Create a float variable for salary\n",
        "salary = 100.00\n",
        "\n",
        "# Create a string variable for name\n",
        "name = \"John\"\n",
        "\n",
        "# Create a boolean variable for is_happy\n",
        "is_happy = True\n",
        "\n",
        "# Print the variables and their types to verify\n",
        "print(f\"Variable: age, Value: {age}, Type: {type(age)}\")\n",
        "print(f\"Variable: salary, Value: {salary}, Type: {type(salary)}\")\n",
        "print(f\"Variable: name, Value: {name}, Type: {type(name)}\")\n",
        "print(f\"Variable: is_happy, Value: {is_happy}, Type: {type(is_happy)}\")"
      ]
    },
    {
      "cell_type": "markdown",
      "id": "237dd295",
      "metadata": {
        "id": "237dd295"
      },
      "source": [
        "## 3. Operators and Expressions\n",
        "**Operators** perform operations on variables and values.\n",
        "\n",
        "* Arithmetic Operators: +, -, *, /, % (modulo), ** (exponentiation)\n",
        "\n",
        "* Comparison Operators: ==, !=, >, <, >=, <=\n",
        "\n",
        "* Logical Operators: **and**, **or**, **not**\n",
        "\n",
        "* Assignment Operators: =, +=, -=, *= etc.\n",
        "\n",
        "**Expressions** are combinations of values, variables, and operators that Python evaluates to produce a single result. Every expression returns a value."
      ]
    },
    {
      "cell_type": "markdown",
      "source": [
        "### Arithmetic Operators"
      ],
      "metadata": {
        "id": "8sg_17uBemE_"
      },
      "id": "8sg_17uBemE_"
    },
    {
      "cell_type": "code",
      "execution_count": 2,
      "id": "ed734955",
      "metadata": {
        "id": "ed734955",
        "colab": {
          "base_uri": "https://localhost:8080/"
        },
        "outputId": "814e22fe-51bb-4f58-ceb2-a12774959413"
      },
      "outputs": [
        {
          "output_type": "stream",
          "name": "stdout",
          "text": [
            "a + b = 13\n",
            "a - b = 7\n",
            "a * b = 30\n",
            "a / b = 3.3333333333333335\n",
            "a % b = 1\n",
            "a ** b = 1000\n"
          ]
        }
      ],
      "source": [
        "# Declare the two numbers\n",
        "a = 10\n",
        "b = 3\n",
        "\n",
        "# Perform and print the results of various arithmetic operations\n",
        "\n",
        "# Addition\n",
        "print(f\"a + b = {a + b}\")\n",
        "\n",
        "# Subtraction\n",
        "print(f\"a - b = {a - b}\")\n",
        "\n",
        "# Multiplication\n",
        "print(f\"a * b = {a * b}\")\n",
        "\n",
        "# Division (float division)\n",
        "print(f\"a / b = {a / b}\")\n",
        "\n",
        "# Modulo (remainder of the division)\n",
        "print(f\"a % b = {a % b}\")\n",
        "\n",
        "# Exponentiation (a to the power of b)\n",
        "print(f\"a ** b = {a ** b}\")"
      ]
    },
    {
      "cell_type": "markdown",
      "source": [
        "### Relational and Logical Operators"
      ],
      "metadata": {
        "id": "KQ9b0br4e1rE"
      },
      "id": "KQ9b0br4e1rE"
    },
    {
      "cell_type": "code",
      "source": [
        "# Declare the two numbers\n",
        "a = 10\n",
        "b = 3\n",
        "\n",
        "# Equal to\n",
        "print(f\"a == b is {a == b}\")\n",
        "\n",
        "# Not equal to\n",
        "print(f\"a != b is {a != b}\")\n",
        "\n",
        "# Greater than\n",
        "print(f\"a > b is {a > b}\")\n",
        "\n",
        "# Less than\n",
        "print(f\"a < b is {a < b}\")\n",
        "\n",
        "# Greater than or equal to\n",
        "print(f\"a >= b is {a >= b}\")\n",
        "\n",
        "# Less than or equal to\n",
        "print(f\"a <= b is {a <= b}\")"
      ],
      "metadata": {
        "id": "3Mjafg09e_Mk"
      },
      "id": "3Mjafg09e_Mk",
      "execution_count": null,
      "outputs": []
    },
    {
      "cell_type": "markdown",
      "source": [
        "### Assignment Operators"
      ],
      "metadata": {
        "id": "GuC6Ps8mf2aI"
      },
      "id": "GuC6Ps8mf2aI"
    },
    {
      "cell_type": "code",
      "source": [
        "# Create a variable c and initialize it\n",
        "c = 5\n",
        "\n",
        "# Use the += operator: c = c + 2\n",
        "# This adds 2 to the current value of c and assigns the result back to c\n",
        "print(f\"Initial value of c: {c}\")\n",
        "c += 2\n",
        "print(f\"Value of c after c += 2: {c}\")\n",
        "\n",
        "# Use the *= operator: c = c * 3\n",
        "# This multiplies the current value of c by 3 and assigns the result back to c\n",
        "c *= 3\n",
        "print(f\"Final value of c after c *= 3: {c}\")"
      ],
      "metadata": {
        "id": "HIbYN7ZWf5V5"
      },
      "id": "HIbYN7ZWf5V5",
      "execution_count": null,
      "outputs": []
    },
    {
      "cell_type": "markdown",
      "source": [
        "### Logical Operators"
      ],
      "metadata": {
        "id": "W-ZnvXBKXD8k"
      },
      "id": "W-ZnvXBKXD8k"
    },
    {
      "cell_type": "code",
      "source": [
        "# Create two boolean variables\n",
        "a = True\n",
        "b = False\n",
        "\n",
        "# Print the output of \"and\" operation\n",
        "print(f\"a and b: {a and b}\")\n",
        "\n",
        "# Print the output of \"or\" operation\n",
        "print(f\"a or b: {a or b}\")\n",
        "\n",
        "# Print the output of \"not\" operation on 'a'\n",
        "print(f\"not a: {not a}\")"
      ],
      "metadata": {
        "id": "ip6ILsp8XIWN"
      },
      "id": "ip6ILsp8XIWN",
      "execution_count": null,
      "outputs": []
    },
    {
      "cell_type": "markdown",
      "source": [
        "## Expressions\n",
        "\n",
        "Beyond basic arithmetic and logical operations, Python offers various powerful ways to construct expressions that simplify code and perform common tasks. Here, we'll delve into several key types of expressions."
      ],
      "metadata": {
        "id": "xMo-TcaHg5OY"
      },
      "id": "xMo-TcaHg5OY"
    },
    {
      "cell_type": "code",
      "source": [
        "# String Concatenation Expression\n",
        "greeting = \"Hello\" + \", \" + \"World!\" # This is an expression that results in a new string\n",
        "print(f\"String Concatenation: {greeting}\")"
      ],
      "metadata": {
        "id": "KErNQ8j1g9LD"
      },
      "id": "KErNQ8j1g9LD",
      "execution_count": null,
      "outputs": []
    },
    {
      "cell_type": "markdown",
      "source": [
        "### List Creation Expression\n",
        "Explanation: Lists are one of Python's most versatile data structures, used to store ordered collections of items. A list creation expression uses square brackets [] to define a new list. This expression evaluates to a new list object, which can be empty or contain initial elements."
      ],
      "metadata": {
        "id": "-oM1sUOUhkQ3"
      },
      "id": "-oM1sUOUhkQ3"
    },
    {
      "cell_type": "code",
      "source": [
        "# List Creation Expression\n",
        "empty_list = [] # An expression that creates an empty list\n",
        "print(f\"Empty list: {empty_list}\")\n",
        "numbers = [1, 2, 3] # An expression that creates a list with elements\n",
        "print(f\"List of numbers: {numbers}\")"
      ],
      "metadata": {
        "id": "esjv5mPDhsG-"
      },
      "id": "esjv5mPDhsG-",
      "execution_count": null,
      "outputs": []
    },
    {
      "cell_type": "markdown",
      "source": [
        "### Chained Comparison Expression\n",
        "Explanation: Python allows for convenient chained comparisons, where multiple comparisons can be combined in a single line. For example, a < b < c is equivalent to (a < b) and (b < c). This expression evaluates to a single boolean value (True or False)."
      ],
      "metadata": {
        "id": "5gyfuFjlhud-"
      },
      "id": "5gyfuFjlhud-"
    },
    {
      "cell_type": "code",
      "source": [
        "# Chained Comparison Expression\n",
        "x = 10 # Assuming x has been defined previously in your notebook, e.g., x = 10\n",
        "is_within_range = (5 < x < 15) # A convenient way to check if x is between 5 and 15 (exclusive)\n",
        "print(f\"Is x between 5 and 15? {is_within_range}\")"
      ],
      "metadata": {
        "colab": {
          "base_uri": "https://localhost:8080/"
        },
        "id": "dl-i-Bl3h1zH",
        "outputId": "118d48d1-f8fb-4c4e-86cb-3c1035f6ba0b"
      },
      "id": "dl-i-Bl3h1zH",
      "execution_count": 5,
      "outputs": [
        {
          "output_type": "stream",
          "name": "stdout",
          "text": [
            "Is x between 5 and 15? True\n"
          ]
        }
      ]
    },
    {
      "cell_type": "markdown",
      "id": "7279ec7c",
      "metadata": {
        "id": "7279ec7c"
      },
      "source": [
        "## 4. Input and Output in Python"
      ]
    },
    {
      "cell_type": "markdown",
      "source": [
        "The input() function allows you to get input from the user while the print() function is used to display output to the console."
      ],
      "metadata": {
        "id": "EtHz3Udaz0Il"
      },
      "id": "EtHz3Udaz0Il"
    },
    {
      "cell_type": "code",
      "execution_count": 4,
      "id": "87172ef7",
      "metadata": {
        "id": "87172ef7",
        "colab": {
          "base_uri": "https://localhost:8080/"
        },
        "outputId": "8401341b-19de-457e-c2f7-e9970619148f"
      },
      "outputs": [
        {
          "output_type": "stream",
          "name": "stdout",
          "text": [
            "Enter your name: John\n",
            "Hello, John!\n"
          ]
        }
      ],
      "source": [
        "user_name = input(\"Enter your name: \")\n",
        "print(f\"Hello, {user_name}!\")"
      ]
    },
    {
      "cell_type": "markdown",
      "source": [
        "## 5. Python Data Structures: Lists, Dictionaries, and NumPy Arrays\n",
        "These structures are fundamental for organizing and manipulating data in AI applications."
      ],
      "metadata": {
        "id": "kfdzDhsfFBP7"
      },
      "id": "kfdzDhsfFBP7"
    },
    {
      "cell_type": "markdown",
      "source": [
        "### Lists\n",
        "Ordered, mutable collections of items. Can contain different data types."
      ],
      "metadata": {
        "id": "fYTBPwV0FE68"
      },
      "id": "fYTBPwV0FE68"
    },
    {
      "cell_type": "code",
      "source": [
        "# Create a Python list named 'names' containing strings\n",
        "names = [\"John\", \"Mary\", \"Joseph\"]\n",
        "\n",
        "# Print the 'names' list to the console\n",
        "print(f\"Names list: {names}\")\n",
        "\n",
        "# Create a Python list named 'numbers' containing integers\n",
        "numbers = [1, 2, 3, 4]\n",
        "\n",
        "# Print the 'numbers' list to the console\n",
        "print(f\"Numbers list: {numbers}\")"
      ],
      "metadata": {
        "id": "VmPQjcioFJaE"
      },
      "id": "VmPQjcioFJaE",
      "execution_count": null,
      "outputs": []
    },
    {
      "cell_type": "markdown",
      "source": [
        "### Dictionaries\n",
        "Unordered, mutable collections of key-value pairs. Keys must be unique and immutable. Often used for configuration or mapping data."
      ],
      "metadata": {
        "id": "qsWROdoYFLNA"
      },
      "id": "qsWROdoYFLNA"
    },
    {
      "cell_type": "code",
      "source": [
        "# Create a Python dictionary named 'person_info'\n",
        "# It has keys \"name\" and \"age\" with example values.\n",
        "person_info = {\n",
        "    \"name\": \"Alice\",\n",
        "    \"age\": 30\n",
        "}\n",
        "\n",
        "# Print the initial 'person_info' dictionary to the console\n",
        "print(f\"Initial person_info dictionary: {person_info}\")\n",
        "\n",
        "# Update the 'person_info' dictionary by adding a new key \"city\"\n",
        "# Assign a relevant value, for example, \"New York\".\n",
        "person_info[\"city\"] = \"New York\"\n",
        "\n",
        "# Print the updated 'person_info' dictionary to the console\n",
        "print(f\"Updated person_info dictionary (with city): {person_info}\")"
      ],
      "metadata": {
        "id": "aaorqIYEFOIw"
      },
      "id": "aaorqIYEFOIw",
      "execution_count": null,
      "outputs": []
    },
    {
      "cell_type": "markdown",
      "id": "0c7d02db",
      "metadata": {
        "id": "0c7d02db"
      },
      "source": [
        "### Tuples (Immutable)\n",
        "Tuples are ordered collections of items, similar to lists. The key difference is that tuples are immutable, meaning their contents cannot be changed after they are created. They are defined using parentheses (). Tuples are often used for fixed collections of items, such as coordinates or record entries, where the data should not be modified."
      ]
    },
    {
      "cell_type": "code",
      "execution_count": null,
      "id": "102bded5",
      "metadata": {
        "id": "102bded5"
      },
      "outputs": [],
      "source": [
        "# Create a Python tuple named 'coordinates' with two elements\n",
        "# These elements represent a point in 2D space.\n",
        "coordinates = (10, 20)\n",
        "\n",
        "# Print the entire 'coordinates' tuple to the console\n",
        "print(f\"The coordinates tuple: {coordinates}\")\n",
        "\n",
        "# Access the first element of the 'coordinates' tuple (index 0)\n",
        "# and store it in a variable for clarity, then print it.\n",
        "first_element = coordinates[0]\n",
        "print(f\"The first element of the coordinates tuple: {first_element}\")"
      ]
    },
    {
      "cell_type": "markdown",
      "source": [
        "### NumPy Arrays\n",
        "Explanation: NumPy is the fundamental library for numerical computing in Python, especially for AI. It provides powerful multidimensional array (ndarray) objects. These arrays are highly efficient (fast and memory-saving) compared to Python lists, which is crucial for large datasets in AI.\n",
        "\n",
        "Many top AI libraries (like TensorFlow, Keras, Scikit-learn) are built on or heavily integrate with NumPy arrays. It offers a vast collection of optimized mathematical and statistical operations."
      ],
      "metadata": {
        "id": "_2n1WwmQwKD-"
      },
      "id": "_2n1WwmQwKD-"
    },
    {
      "cell_type": "code",
      "source": [
        "import numpy as np\n",
        "\n",
        "# Multidimensional arrays (e.g., representing datasets)\n",
        "# Imagine a dataset with 3 samples and 2 features\n",
        "dataset_array = np.array([[12, 25], [31, 40], [55, 68]])\n",
        "print(f\"Dataset array:\\n{dataset_array}\")\n",
        "print(f\"Shape: {dataset_array.shape}\")\n",
        "\n",
        "# Array operations (element-wise)\n",
        "scaled_data = dataset_array / 10\n",
        "print(f\"Scaled data: {scaled_data}\")"
      ],
      "metadata": {
        "colab": {
          "base_uri": "https://localhost:8080/"
        },
        "id": "qWBNaehZwSat",
        "outputId": "e6a0f438-d7f8-42d3-b20f-cdfa7da33e3c"
      },
      "id": "qWBNaehZwSat",
      "execution_count": 7,
      "outputs": [
        {
          "output_type": "stream",
          "name": "stdout",
          "text": [
            "Dataset array:\n",
            "[[1.2 2.5]\n",
            " [3.1 4. ]\n",
            " [5.5 6.8]]\n",
            "Shape: (3, 2)\n",
            "Scaled data: [[0.12 0.25]\n",
            " [0.31 0.4 ]\n",
            " [0.55 0.68]]\n"
          ]
        }
      ]
    },
    {
      "cell_type": "markdown",
      "source": [
        "### Pandas DataFrames\n",
        "Pandas is a powerful library for data manipulation and analysis. It's widely used for handling structured datasets. For example, you can store people information.\n",
        "\n"
      ],
      "metadata": {
        "id": "RYiRhvWwww9j"
      },
      "id": "RYiRhvWwww9j"
    },
    {
      "cell_type": "code",
      "source": [
        "import pandas as pd #\n",
        "\n",
        "# The dictionary keys will become column headers (Name, Age, City)\n",
        "# and the lists will populate the rows for each column.\n",
        "data = {\n",
        "    'Name': ['John', 'Mary', 'Joseph', 'Alice'],\n",
        "    'Age': [30, 24, 45, 35],\n",
        "    'City': ['New York', 'London', 'Paris', 'Tokyo']\n",
        "}\n",
        "\n",
        "# Create a Pandas DataFrame from the 'data' dictionary\n",
        "df = pd.DataFrame(data)\n",
        "\n",
        "# This command will show a structured table of names, ages, and cities.\n",
        "print(f\"DataFrame containing person information:\\n{df}\")"
      ],
      "metadata": {
        "colab": {
          "base_uri": "https://localhost:8080/"
        },
        "id": "nsX5k1Eywyr2",
        "outputId": "465ba0fc-8786-413e-ffd8-03e97b04d9bc"
      },
      "id": "nsX5k1Eywyr2",
      "execution_count": 9,
      "outputs": [
        {
          "output_type": "stream",
          "name": "stdout",
          "text": [
            "DataFrame containing person information:\n",
            "     Name  Age      City\n",
            "0    John   30  New York\n",
            "1    Mary   24    London\n",
            "2  Joseph   45     Paris\n",
            "3   Alice   35     Tokyo\n"
          ]
        }
      ]
    },
    {
      "cell_type": "markdown",
      "source": [
        "You can also manipulate the Dataframe."
      ],
      "metadata": {
        "id": "Lz029PYQgPG8"
      },
      "id": "Lz029PYQgPG8"
    },
    {
      "cell_type": "code",
      "source": [
        "# Accessing the 'Name' column to show all names in the DataFrame\n",
        "print(f\"\\nName column:\\n{df['Name']}\")\n",
        "\n",
        "# Displaying the first 2 rows of the DataFrame\n",
        "print(f\"\\nDataFrame head (first 2 rows):\\n{df.head(2)}\")\n",
        "\n",
        "# Filtering rows where the 'Age' is greater than 30\n",
        "print(f\"\\nRows where Age > 30:\\n{df[df['Age'] > 30]}\")"
      ],
      "metadata": {
        "id": "U4cymYm3giYf",
        "outputId": "7ccf8312-0370-4e50-b8e3-94dd177fd23a",
        "colab": {
          "base_uri": "https://localhost:8080/"
        }
      },
      "id": "U4cymYm3giYf",
      "execution_count": 11,
      "outputs": [
        {
          "output_type": "stream",
          "name": "stdout",
          "text": [
            "\n",
            "Name column:\n",
            "0      John\n",
            "1      Mary\n",
            "2    Joseph\n",
            "3     Alice\n",
            "Name: Name, dtype: object\n",
            "\n",
            "DataFrame head (first 2 rows):\n",
            "   Name  Age      City\n",
            "0  John   30  New York\n",
            "1  Mary   24    London\n",
            "\n",
            "Rows where Age > 30:\n",
            "     Name  Age   City\n",
            "2  Joseph   45  Paris\n",
            "3   Alice   35  Tokyo\n"
          ]
        }
      ]
    },
    {
      "cell_type": "markdown",
      "id": "25d841d5",
      "metadata": {
        "id": "25d841d5"
      },
      "source": [
        "## 6. Control Flow: Conditionals and Loops\n",
        "Control flow statements determine the order in which code is executed."
      ]
    },
    {
      "cell_type": "markdown",
      "source": [
        "### Conditional Statements (if, elif, else)\n",
        "Execute code blocks based on conditions."
      ],
      "metadata": {
        "id": "Ko1T14328ra6"
      },
      "id": "Ko1T14328ra6"
    },
    {
      "cell_type": "code",
      "execution_count": 12,
      "id": "84b2ae6f",
      "metadata": {
        "id": "84b2ae6f",
        "colab": {
          "base_uri": "https://localhost:8080/"
        },
        "outputId": "3557ac35-5fd1-4d2a-e1d6-54d9fcb9e3fa"
      },
      "outputs": [
        {
          "output_type": "stream",
          "name": "stdout",
          "text": [
            "For age 25: You are an adult.\n"
          ]
        }
      ],
      "source": [
        "# Define a variable called 'age'.\n",
        "age = 25\n",
        "\n",
        "# if/elif/else block.\n",
        "\n",
        "if age < 18:\n",
        "    # If age is less than 18, the person is considered a teenager.\n",
        "    print(f\"For age {age}: You are a teenager.\")\n",
        "elif 18 <= age < 65:\n",
        "    # If age is 18 or greater, but less than 65, the person is an adult.\n",
        "    print(f\"For age {age}: You are an adult.\")\n",
        "else:\n",
        "    # If age is 65 or greater (any other value not covered by the above conditions),\n",
        "    # the person is considered a senior citizen.\n",
        "    print(f\"For age {age}: You are a senior citizen.\")\n"
      ]
    },
    {
      "cell_type": "markdown",
      "source": [
        "### Loops (for, while)\n",
        "Repeat a block of code multiple times."
      ],
      "metadata": {
        "id": "akky4Xbk9U9J"
      },
      "id": "akky4Xbk9U9J"
    },
    {
      "cell_type": "markdown",
      "source": [
        "### ***for*** loop (most common for iterating over collections)"
      ],
      "metadata": {
        "id": "j_fdjFyvEPdt"
      },
      "id": "j_fdjFyvEPdt"
    },
    {
      "cell_type": "code",
      "source": [
        "# Create a list of favorite colors\n",
        "colors = ['red', 'blue', 'green', 'yellow']\n",
        "\n",
        "# Use a for loop to iterate through each color in the list\n",
        "for color in colors:\n",
        "    # Print a personalized message for each color\n",
        "    # The f-string ensures the color name is dynamically inserted into the message.\n",
        "    print(f\"My favorite color is {color}!\")"
      ],
      "metadata": {
        "colab": {
          "base_uri": "https://localhost:8080/"
        },
        "id": "T6ULgp6Q9WqR",
        "outputId": "45f4c81f-c0b5-46e3-dcc4-182cbe2204cf"
      },
      "id": "T6ULgp6Q9WqR",
      "execution_count": 13,
      "outputs": [
        {
          "output_type": "stream",
          "name": "stdout",
          "text": [
            "My favorite color is red!\n",
            "My favorite color is blue!\n",
            "My favorite color is green!\n",
            "My favorite color is yellow!\n"
          ]
        }
      ]
    },
    {
      "cell_type": "markdown",
      "source": [
        "### ***while*** loop (repeats as long as a condition is true)\\"
      ],
      "metadata": {
        "id": "-vE_msmnEaje"
      },
      "id": "-vE_msmnEaje"
    },
    {
      "cell_type": "code",
      "source": [
        "# Initialize a variable 'number' to start the count\n",
        "number = 1\n",
        "\n",
        "# Use a while loop to simulate a simple counter\n",
        "# The loop will continue as long as 'number' is less than or equal to 5\n",
        "while number <= 5:\n",
        "    # Print the current value of 'number' inside the loop\n",
        "    print(f\"Current count: {number}\")\n",
        "\n",
        "    # Increase 'number' by 1 in each iteration\n",
        "    # This is crucial to ensure the loop eventually terminates\n",
        "    number += 1\n",
        "\n",
        "# After the loop finishes (when 'number' becomes 6), print the completion message\n",
        "print(\"Counting complete!\")"
      ],
      "metadata": {
        "id": "xnhoZbcrEfjY"
      },
      "id": "xnhoZbcrEfjY",
      "execution_count": null,
      "outputs": []
    },
    {
      "cell_type": "markdown",
      "source": [
        "##6. File Input and Output (I/O)\n",
        "Beyond console input/output, real-world AI applications often involve reading data from and writing data to files. Python provides robust capabilities for handling various file formats. This section will demonstrate how to work with .txt, .json, and .yaml files with simplified code."
      ],
      "metadata": {
        "id": "VPKXyQbZ1eij"
      },
      "id": "VPKXyQbZ1eij"
    },
    {
      "cell_type": "markdown",
      "source": [
        "### Working with Text Files (.txt)\n",
        "Text files are the simplest form of file storage, containing plain text."
      ],
      "metadata": {
        "id": "ropEXT7d1wRv"
      },
      "id": "ropEXT7d1wRv"
    },
    {
      "cell_type": "markdown",
      "source": [
        "### Writing to a Text File\n",
        "Use 'w' to write (overwrite) or 'a' to append. The with statement ensures the file closes automatically."
      ],
      "metadata": {
        "id": "1_-XxnzH10P9"
      },
      "id": "1_-XxnzH10P9"
    },
    {
      "cell_type": "code",
      "source": [
        "# Define the Shakespearean phrase\n",
        "shakespeare_phrase = \"To be, or not to be, that is the question.\"\n",
        "file_name = \"shakespeare.txt\"\n",
        "\n",
        "# --- Writing to the file ---\n",
        "# Open the file in write mode ('w'). If the file doesn't exist, it will be created.\n",
        "# If it exists, its content will be truncated (emptied) before writing.\n",
        "# 'with' statement ensures the file is properly closed.\n",
        "with open(file_name, 'w') as file:\n",
        "    file.write(shakespeare_phrase)\n",
        "print(f\"Successfully wrote the phrase to '{file_name}'.\")"
      ],
      "metadata": {
        "colab": {
          "base_uri": "https://localhost:8080/"
        },
        "id": "iuZeYKAS142L",
        "outputId": "47310034-1409-4d7c-9b98-1db8fa67fab3"
      },
      "id": "iuZeYKAS142L",
      "execution_count": 14,
      "outputs": [
        {
          "output_type": "stream",
          "name": "stdout",
          "text": [
            "Successfully wrote the phrase to 'shakespeare.txt'.\n"
          ]
        }
      ]
    },
    {
      "cell_type": "markdown",
      "source": [
        "### Reading from a Text File\n",
        "Use 'r' to read. file.read() gets the entire content."
      ],
      "metadata": {
        "id": "KeN9u3Af1-Rn"
      },
      "id": "KeN9u3Af1-Rn"
    },
    {
      "cell_type": "code",
      "source": [
        "# Open the file in read mode ('r').\n",
        "# 'with' statement ensures the file is properly closed.\n",
        "with open(file_name, 'r') as file:\n",
        "    # Read the entire content of the file\n",
        "    read_content = file.read()\n",
        "print(f\"\\nContent read from '{file_name}':\")\n",
        "print(read_content)"
      ],
      "metadata": {
        "colab": {
          "base_uri": "https://localhost:8080/"
        },
        "id": "iYeS2Wri2deH",
        "outputId": "d8021adb-c7bf-4fa5-9f82-0185a1209ac8"
      },
      "id": "iYeS2Wri2deH",
      "execution_count": 15,
      "outputs": [
        {
          "output_type": "stream",
          "name": "stdout",
          "text": [
            "\n",
            "Content read from 'shakespeare.txt':\n",
            "To be, or not to be, that is the question.\n"
          ]
        }
      ]
    },
    {
      "cell_type": "markdown",
      "source": [
        "### Working with YAML Files (.yaml or .yml)\n",
        "YAML is often used for configuration due to its clean syntax. It also maps well to Python dictionaries and lists. You'll need the PyYAML library.\n",
        "\n",
        "Installation: If not installed, run: !pip install pyyaml"
      ],
      "metadata": {
        "id": "-DvvLi1721s9"
      },
      "id": "-DvvLi1721s9"
    },
    {
      "cell_type": "markdown",
      "source": [
        "### Writing to a YAML File\n",
        "Prepare your data (dictionary/list), then use yaml.dump()."
      ],
      "metadata": {
        "id": "rvJO5v4V3ZOy"
      },
      "id": "rvJO5v4V3ZOy"
    },
    {
      "cell_type": "code",
      "source": [
        "# !pip install pyyaml # Run this cell if PyYAML is not installed\n",
        "import yaml\n",
        "\n",
        "# Data as a Python dictionary for configuration\n",
        "simple_config = {\n",
        "    \"app_name\": \"DataProcessor\",\n",
        "    \"settings\": {\n",
        "        \"debug_mode\": True,\n",
        "        \"max_threads\": 8\n",
        "    }\n",
        "}\n",
        "\n",
        "# Write dictionary to YAML file\n",
        "with open('simple_config.yaml', 'w') as yaml_file:\n",
        "    yaml.dump(simple_config, yaml_file, sort_keys=False)\n",
        "print(\"Config written to simple_config.yaml\")"
      ],
      "metadata": {
        "id": "rmZNN9K23wJj"
      },
      "id": "rmZNN9K23wJj",
      "execution_count": null,
      "outputs": []
    },
    {
      "cell_type": "markdown",
      "source": [
        "### Reading from a YAML File\n",
        "Use yaml.safe_load() to parse the YAML content."
      ],
      "metadata": {
        "id": "u562y0Oh4JbP"
      },
      "id": "u562y0Oh4JbP"
    },
    {
      "cell_type": "code",
      "source": [
        "# !pip install pyyaml # Run this cell if PyYAML is not installed\n",
        "import yaml\n",
        "\n",
        "# Reading from a YAML file\n",
        "with open('simple_config.yaml', 'r') as yaml_file:\n",
        "    loaded_config = yaml.safe_load(yaml_file)\n",
        "    print(\"\\n--- Content of simple_config.yaml ---\")\n",
        "    print(loaded_config)\n",
        "    print(f\"Debug Mode: {loaded_config['settings']['debug_mode']}\")"
      ],
      "metadata": {
        "id": "fAtfVRqL4Th8"
      },
      "id": "fAtfVRqL4Th8",
      "execution_count": null,
      "outputs": []
    },
    {
      "cell_type": "markdown",
      "id": "337176cc",
      "metadata": {
        "id": "337176cc"
      },
      "source": [
        "## 7. Functions\n",
        "Functions are blocks of code designed to perform a specific task. They help organize and reuse code."
      ]
    },
    {
      "cell_type": "code",
      "execution_count": null,
      "id": "8fadcf41",
      "metadata": {
        "id": "8fadcf41"
      },
      "outputs": [],
      "source": [
        "def sum_a_b(a, b):\n",
        "    return a + b\n",
        "\n",
        "print(sum(1, 3))"
      ]
    },
    {
      "cell_type": "markdown",
      "source": [
        "## 8. Classes and Objects (Brief Introduction)\n",
        "Object-Oriented Programming (OOP) allows you to model real-world entities. In AI, libraries often provide classes for models, layers, and datasets, which you interact with as objects.\n",
        "\n",
        "Class: A blueprint for creating objects (e.g., Model, Dense, StringLookup).\n",
        "\n",
        "Object: An instance of a class (e.g., my_model = Model(...), dense_layer = Dense(...), string_lookup_layer = StringLookup(...)). Objects have attributes (data) and methods (functions).\n"
      ],
      "metadata": {
        "id": "MQsN9lmbw7tC"
      },
      "id": "MQsN9lmbw7tC"
    },
    {
      "cell_type": "code",
      "source": [
        "# Class Definition\n",
        "# A simple class representing a bank account\n",
        "class BankAccount:\n",
        "    def __init__(self, owner, balance=0):\n",
        "        self.owner = owner\n",
        "        self.balance = balance\n",
        "\n",
        "    def deposit(self, amount):\n",
        "        if amount > 0:\n",
        "            self.balance += amount\n",
        "            print(f\"{self.owner} deposited ${amount}.\")\n",
        "        else:\n",
        "            print(\"Invalid deposit amount.\")\n",
        "\n",
        "    def withdraw(self, amount):\n",
        "        if amount <= self.balance:\n",
        "            self.balance -= amount\n",
        "            print(f\"{self.owner} withdrew ${amount}.\")\n",
        "        else:\n",
        "            print(\"Insufficient funds.\")\n",
        "\n",
        "    def check_balance(self):\n",
        "        print(f\"{self.owner}'s balance is: ${self.balance}\")"
      ],
      "metadata": {
        "id": "SFjMagdQzBBe"
      },
      "id": "SFjMagdQzBBe",
      "execution_count": null,
      "outputs": []
    },
    {
      "cell_type": "markdown",
      "source": [
        "### Bank Account Example (Class and Object)\n",
        "The BankAccount class models a real-world bank account. It has:\n",
        "\n",
        "Attributes:\n",
        "owner (account holder's name) and balance (current amount of money).\n",
        "\n",
        "Methods:\n",
        "deposit() adds money, withdraw() removes money if funds are available, and check_balance() shows the current balance.\n",
        "\n",
        "By creating an object like account = BankAccount(\"Alice\"), we can simulate real banking actions using methods like:"
      ],
      "metadata": {
        "id": "RW4R0WdSx9iQ"
      },
      "id": "RW4R0WdSx9iQ"
    },
    {
      "cell_type": "code",
      "source": [
        "# Example usage:\n",
        "account = BankAccount(\"Alice\")\n",
        "\n",
        "account.check_balance()\n",
        "account.deposit(150)\n",
        "account.withdraw(40)\n",
        "account.check_balance()"
      ],
      "metadata": {
        "id": "RGl94HNvyAq-"
      },
      "id": "RGl94HNvyAq-",
      "execution_count": null,
      "outputs": []
    },
    {
      "cell_type": "markdown",
      "source": [
        "## 11. Conclusions\n",
        "This notebook has guided you through the essential foundational concepts of Python programming. You've explored core elements like:\n",
        "\n",
        "Data Types, Variables, and Operators: Understanding how data is stored and manipulated.\n",
        "\n",
        "Expressions: Recognizing how combinations of values and operators produce results, from basic arithmetic to complex conditional and method calls.\n",
        "\n",
        "Input/Output (I/O): Learning to interact with the user and manage data persistently through various file formats (.txt, .json, .yaml).\n",
        "\n",
        "Fundamental Data Structures: Mastering Lists, Dictionaries, and Tuples for organizing data effectively.\n",
        "\n",
        "NumPy: Getting an introduction to the indispensable library for high-performance numerical computing.\n",
        "\n",
        "By thoroughly practicing these basics, you are building a strong and versatile programming foundation. These concepts are the bedrock upon which more advanced topics, including data analysis, machine learning, and Artificial Intelligence, are built."
      ],
      "metadata": {
        "id": "wi4RTOd0zv6N"
      },
      "id": "wi4RTOd0zv6N"
    }
  ],
  "metadata": {
    "colab": {
      "provenance": [],
      "include_colab_link": true
    },
    "language_info": {
      "name": "python"
    },
    "kernelspec": {
      "name": "python3",
      "display_name": "Python 3"
    }
  },
  "nbformat": 4,
  "nbformat_minor": 5
}
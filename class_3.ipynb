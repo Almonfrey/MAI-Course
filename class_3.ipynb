{
  "cells": [
    {
      "cell_type": "markdown",
      "metadata": {
        "id": "view-in-github",
        "colab_type": "text"
      },
      "source": [
        "<a href=\"https://colab.research.google.com/github/Almonfrey/MAI-Course/blob/main/class_3.ipynb\" target=\"_parent\"><img src=\"https://colab.research.google.com/assets/colab-badge.svg\" alt=\"Open In Colab\"/></a>"
      ]
    },
    {
      "cell_type": "markdown",
      "id": "4c4da94e",
      "metadata": {
        "id": "4c4da94e"
      },
      "source": [
        "# Python for Low-Code Artificial Intelligence Model Training\n",
        "This notebook introduces fundamental Python programming concepts tailored for students beginning their studies in Artificial Intelligence. It covers the basics such as data types, variables, control flow, functions, and object-oriented programming, using clear and practical examples. These foundational skills are essential for understanding and developing AI models in later stages.\n",
        "\n",
        "## Table of Contents\n",
        "\n",
        "* Introduction to Python for AI.\n",
        "\n",
        "* Python Basics: Data Types.\n",
        "\n",
        "* Variables and Constants.\n",
        "\n",
        "* Operators and Expressions.\n",
        "\n",
        "* Input and Output in Python.\n",
        "\n",
        "* Files Input ad Output.\n",
        "\n",
        "* Python Data Structures: Lists, Dictionaries, and NumPy Arrays.\n",
        "\n",
        "* Classes and Objects (Brief Introduction).\n",
        "\n",
        "* Control Flow: Conditionals and Loops.\n",
        "\n",
        "* Functions in Python."
      ]
    },
    {
      "cell_type": "markdown",
      "source": [
        "# 1. Introduction to Python for AI\n",
        "Python is a versatile and widely-used programming language, particularly well-suited for students and professionals working in Artificial Intelligence. Its simplicity, readability, and strong ecosystem make it ideal for building a solid programming foundation.\n",
        "\n",
        "This notebook focuses on core Python concepts that will prepare you to work confidently with code in future AI applications, especially when using low-code tools and frameworks. The emphasis is on understanding the language itself—its syntax, logic, and structure—through clear and practical examples.\n",
        "\n"
      ],
      "metadata": {
        "id": "19ncOm2PWkO6"
      },
      "id": "19ncOm2PWkO6"
    },
    {
      "cell_type": "markdown",
      "id": "634e75b0",
      "metadata": {
        "id": "634e75b0"
      },
      "source": [
        "## 2. Python Basics: Data Types\n",
        "Understanding how Python handles data is crucial.\n",
        "\n",
        "**Data Types**\n",
        "Python automatically infers the data type based on the value assigned. Common data types include:\n",
        "\n",
        "* Integers (int): Whole numbers (e.g., 10, -5).\n",
        "\n",
        "* Floating-point numbers (float): Numbers with decimal points (e.g., 3.14, -0.5).\n",
        "\n",
        "* Strings (str): Sequences of characters (e.g., 'hello', \"AI\").\n",
        "\n",
        "* Booleans (bool): True or False values (e.g., True, False)."
      ]
    },
    {
      "cell_type": "code",
      "execution_count": null,
      "id": "9d8f1a10",
      "metadata": {
        "id": "9d8f1a10"
      },
      "outputs": [],
      "source": [
        "# Integers\n",
        "price = 1500\n",
        "print(f\"Price: {price}, Type: {type(price)}\")\n",
        "\n",
        "# Floats\n",
        "accuracy = 0.925\n",
        "print(f\"Accuracy: {accuracy}, Type: {type(accuracy)}\")\n",
        "\n",
        "# Strings\n",
        "model_name = \"Neural Network\"\n",
        "print(f\"Model Name: {model_name}, Type: {type(model_name)}\")\n",
        "\n",
        "# Booleans\n",
        "is_trained = True\n",
        "print(f\"Is Trained: {is_trained}, Type: {type(is_trained)}\")"
      ]
    },
    {
      "cell_type": "markdown",
      "source": [
        "## 3. Variables and Constants  \n",
        "**Variables** are names assigned to memory locations used to store data. They are represented by **identifiers** and can hold values that may change during the execution of a program.\n",
        "\n",
        "**Constants**, on the other hand, are values that do not change during program execution. Python does not have built-in constant types, but naming conventions (e.g., all-uppercase variable names) are used to indicate that a value should remain unchanged.\n",
        "\n"
      ],
      "metadata": {
        "id": "mVOb0tPPaaZB"
      },
      "id": "mVOb0tPPaaZB"
    },
    {
      "cell_type": "code",
      "source": [
        "# Variables\n",
        "epochs = 10\n",
        "learning_rate = 0.01\n",
        "print(f\"Epochs: {epochs}\")\n",
        "\n",
        "epochs = 20 # Value can be changed\n",
        "print(f\"New Epochs: {epochs}\")\n",
        "\n",
        "# Constants (by convention)\n",
        "BATCH_SIZE = 32\n",
        "RANDOM_STATE = 42\n",
        "print(f\"Batch Size: {BATCH_SIZE}\")"
      ],
      "metadata": {
        "id": "s5VaePJhbmpA"
      },
      "id": "s5VaePJhbmpA",
      "execution_count": null,
      "outputs": []
    },
    {
      "cell_type": "markdown",
      "id": "237dd295",
      "metadata": {
        "id": "237dd295"
      },
      "source": [
        "## 4. Operators and Expressions\n",
        "**Operators** perform operations on variables and values.\n",
        "\n",
        "* Arithmetic Operators: +, -, *, /, % (modulo), ** (exponentiation)\n",
        "\n",
        "* Comparison Operators: ==, !=, >, <, >=, <=\n",
        "\n",
        "* Logical Operators: and, or, not\n",
        "\n",
        "* Assignment Operators: =, +=, -=, *= etc.\n",
        "\n",
        "**Expressions** are combinations of values, variables, and operators that Python evaluates to produce a single result. Every expression returns a value."
      ]
    },
    {
      "cell_type": "markdown",
      "source": [
        "### Arithmetic Operators"
      ],
      "metadata": {
        "id": "8sg_17uBemE_"
      },
      "id": "8sg_17uBemE_"
    },
    {
      "cell_type": "code",
      "execution_count": null,
      "id": "ed734955",
      "metadata": {
        "id": "ed734955"
      },
      "outputs": [],
      "source": [
        "x = 10\n",
        "y = 3\n",
        "\n",
        "# Arithmetic Operators: Perform mathematical calculations\n",
        "print(f\"Addition (x + y): {x + y}\") # (x + y) is an expression\n",
        "print(f\"Division (x / y): {x / y}\") # Returns a float, (x / y) is an expression\n",
        "print(f\"Modulo (x % y): {x % y}\") # Returns the remainder, (x % y) is an expression\n",
        "print(f\"Exponentiation (x ** 2): {x ** 2}\") # x raised to the power of 2, (x ** 2) is an expression"
      ]
    },
    {
      "cell_type": "markdown",
      "source": [
        "### Relational and Logical Operators"
      ],
      "metadata": {
        "id": "KQ9b0br4e1rE"
      },
      "id": "KQ9b0br4e1rE"
    },
    {
      "cell_type": "code",
      "source": [
        "# Comparison Operators: Compare two values and return a Boolean (True/False)\n",
        "is_equal = (x == y) # (x == y) is an expression that returns a boolean\n",
        "print(f\"Is x equal to y? {is_equal}\")\n",
        "is_greater = (x > y) # (x > y) is an expression\n",
        "print(f\"Is x greater than y? {is_greater}\")\n",
        "is_not_equal = (x != y) # (x != y) is an expression\n",
        "print(f\"Is x not equal to y? {is_not_equal}\")\n",
        "\n",
        "# Logical Operators: Combine boolean expressions\n",
        "a = True\n",
        "b = False\n",
        "print(f\"a and b: {a and b}\") # (a and b) is an expression\n",
        "print(f\"a or b: {a or b}\")   # (a or b) is an expression\n",
        "print(f\"not a: {not a}\")     # (not a) is an expression"
      ],
      "metadata": {
        "id": "3Mjafg09e_Mk"
      },
      "id": "3Mjafg09e_Mk",
      "execution_count": null,
      "outputs": []
    },
    {
      "cell_type": "markdown",
      "source": [
        "### Assignment Operators"
      ],
      "metadata": {
        "id": "GuC6Ps8mf2aI"
      },
      "id": "GuC6Ps8mf2aI"
    },
    {
      "cell_type": "code",
      "source": [
        "# Assignment Operators: Assign values to variables\n",
        "\n",
        "# += (Add and assign)\n",
        "data_count = 100\n",
        "data_count += 50 # Equivalent to: data_count = data_count + 50\n",
        "print(f\"data_count += 50 -> {data_count}\") # Expected: 150\n",
        "\n",
        "# -= (Subtract and assign)\n",
        "model_score = 95\n",
        "model_score -= 5 # Equivalent to: model_score = model_score - 5\n",
        "print(f\"model_score -= 5 -> {model_score}\") # Expected: 90\n",
        "\n",
        "# *= (Multiply and assign)\n",
        "learning_rate = 0.01\n",
        "learning_rate *= 2 # Equivalent to: learning_rate = learning_rate * 2\n",
        "print(f\"learning_rate *= 2 -> {learning_rate}\") # Expected: 0.02\n",
        "\n",
        "# /= (Divide and assign)\n",
        "total_loss = 25.0\n",
        "total_loss /= 5 # Equivalent to: total_loss = total_loss / 5\n",
        "print(f\"total_loss /= 5 -> {total_loss}\") # Expected: 5.0"
      ],
      "metadata": {
        "id": "HIbYN7ZWf5V5"
      },
      "id": "HIbYN7ZWf5V5",
      "execution_count": null,
      "outputs": []
    },
    {
      "cell_type": "markdown",
      "source": [
        "## Expressions\n",
        "\n",
        "Beyond basic arithmetic and logical operations, Python offers various powerful ways to construct expressions that simplify code and perform common tasks. Here, we'll delve into several key types of expressions."
      ],
      "metadata": {
        "id": "xMo-TcaHg5OY"
      },
      "id": "xMo-TcaHg5OY"
    },
    {
      "cell_type": "code",
      "source": [
        "# String Concatenation Expression\n",
        "greeting = \"Hello\" + \", \" + \"World!\" # This is an expression that results in a new string\n",
        "print(f\"String Concatenation: {greeting}\")"
      ],
      "metadata": {
        "id": "KErNQ8j1g9LD"
      },
      "id": "KErNQ8j1g9LD",
      "execution_count": null,
      "outputs": []
    },
    {
      "cell_type": "markdown",
      "source": [
        "### List Creation Expression\n",
        "Explanation: Lists are one of Python's most versatile data structures, used to store ordered collections of items. A list creation expression uses square brackets [] to define a new list. This expression evaluates to a new list object, which can be empty or contain initial elements."
      ],
      "metadata": {
        "id": "-oM1sUOUhkQ3"
      },
      "id": "-oM1sUOUhkQ3"
    },
    {
      "cell_type": "code",
      "source": [
        "# List Creation Expression\n",
        "empty_list = [] # An expression that creates an empty list\n",
        "print(f\"Empty list: {empty_list}\")\n",
        "numbers = [1, 2, 3] # An expression that creates a list with elements\n",
        "print(f\"List of numbers: {numbers}\")"
      ],
      "metadata": {
        "id": "esjv5mPDhsG-"
      },
      "id": "esjv5mPDhsG-",
      "execution_count": null,
      "outputs": []
    },
    {
      "cell_type": "markdown",
      "source": [
        "### Chained Comparison Expression\n",
        "Explanation: Python allows for convenient chained comparisons, where multiple comparisons can be combined in a single line. For example, a < b < c is equivalent to (a < b) and (b < c). This expression evaluates to a single boolean value (True or False)."
      ],
      "metadata": {
        "id": "5gyfuFjlhud-"
      },
      "id": "5gyfuFjlhud-"
    },
    {
      "cell_type": "code",
      "source": [
        "# Chained Comparison Expression\n",
        "x = 10 # Assuming x has been defined previously in your notebook, e.g., x = 10\n",
        "is_within_range = (5 < x < 15) # A convenient way to check if x is between 5 and 15 (exclusive)\n",
        "print(f\"Is x between 5 and 15? {is_within_range}\")"
      ],
      "metadata": {
        "id": "dl-i-Bl3h1zH"
      },
      "id": "dl-i-Bl3h1zH",
      "execution_count": null,
      "outputs": []
    },
    {
      "cell_type": "markdown",
      "id": "7279ec7c",
      "metadata": {
        "id": "7279ec7c"
      },
      "source": [
        "## 5. Input and Output in Python\n",
        "Output: print() function\n",
        "The print() function is used to display output to the console."
      ]
    },
    {
      "cell_type": "code",
      "source": [
        "# Using print\n",
        "print(\"Hello, AI World!\")\n",
        "print(\"Training complete.\")\n",
        "\n",
        "# Using f-strings for formatted output (Python 3.6+)\n",
        "model_accuracy = 0.88\n",
        "print(f\"The model achieved an accuracy of {model_accuracy:.2f}.\")"
      ],
      "metadata": {
        "id": "UcnkI2DFzwIk"
      },
      "id": "UcnkI2DFzwIk",
      "execution_count": null,
      "outputs": []
    },
    {
      "cell_type": "markdown",
      "source": [
        "\n",
        "Input: input() function\n",
        "The input() function allows you to get input from the user."
      ],
      "metadata": {
        "id": "EtHz3Udaz0Il"
      },
      "id": "EtHz3Udaz0Il"
    },
    {
      "cell_type": "code",
      "execution_count": null,
      "id": "87172ef7",
      "metadata": {
        "id": "87172ef7"
      },
      "outputs": [],
      "source": [
        "user_name = input(\"Enter your name: \")\n",
        "print(f\"Hello, {user_name}!\")"
      ]
    },
    {
      "cell_type": "markdown",
      "source": [
        "##6. File Input and Output (I/O)\n",
        "Beyond console input/output, real-world AI applications often involve reading data from and writing data to files. Python provides robust capabilities for handling various file formats. This section will demonstrate how to work with .txt, .json, and .yaml files with simplified code."
      ],
      "metadata": {
        "id": "VPKXyQbZ1eij"
      },
      "id": "VPKXyQbZ1eij"
    },
    {
      "cell_type": "markdown",
      "source": [
        "### Working with Text Files (.txt)\n",
        "Text files are the simplest form of file storage, containing plain text."
      ],
      "metadata": {
        "id": "ropEXT7d1wRv"
      },
      "id": "ropEXT7d1wRv"
    },
    {
      "cell_type": "markdown",
      "source": [
        "### Writing to a Text File\n",
        "Use 'w' to write (overwrite) or 'a' to append. The with statement ensures the file closes automatically."
      ],
      "metadata": {
        "id": "1_-XxnzH10P9"
      },
      "id": "1_-XxnzH10P9"
    },
    {
      "cell_type": "code",
      "source": [
        "# Writing to a text file\n",
        "content = \"This is a simple line of text.\\nAnother line for our file.\"\n",
        "with open('simple_report.txt', 'w') as file:\n",
        "    file.write(content)\n",
        "print(\"Content written to simple_report.txt\")\n",
        "\n",
        "# Appending more content\n",
        "with open('simple_report.txt', 'a') as file:\n",
        "    file.write(\"\\n--- Appended content ---\")\n",
        "print(\"Additional content appended.\")"
      ],
      "metadata": {
        "id": "iuZeYKAS142L"
      },
      "id": "iuZeYKAS142L",
      "execution_count": null,
      "outputs": []
    },
    {
      "cell_type": "markdown",
      "source": [
        "### Reading from a Text File\n",
        "Use 'r' to read. file.read() gets the entire content."
      ],
      "metadata": {
        "id": "KeN9u3Af1-Rn"
      },
      "id": "KeN9u3Af1-Rn"
    },
    {
      "cell_type": "code",
      "source": [
        "# Reading from a text file (Without explicit exception handling)\n",
        "# WARNING: This code will cause a FileNotFoundError if 'simple_report.txt' does not exist.\n",
        "with open('simple_report.txt', 'r') as file:\n",
        "    print(\"\\n--- Content of simple_report.txt ---\")\n",
        "    print(file.read())"
      ],
      "metadata": {
        "id": "iYeS2Wri2deH"
      },
      "id": "iYeS2Wri2deH",
      "execution_count": null,
      "outputs": []
    },
    {
      "cell_type": "markdown",
      "source": [
        "### Working with YAML Files (.yaml or .yml)\n",
        "YAML is often used for configuration due to its clean syntax. It also maps well to Python dictionaries and lists. You'll need the PyYAML library.\n",
        "\n",
        "Installation: If not installed, run: !pip install pyyaml"
      ],
      "metadata": {
        "id": "-DvvLi1721s9"
      },
      "id": "-DvvLi1721s9"
    },
    {
      "cell_type": "markdown",
      "source": [
        "### Writing to a YAML File\n",
        "Prepare your data (dictionary/list), then use yaml.dump()."
      ],
      "metadata": {
        "id": "rvJO5v4V3ZOy"
      },
      "id": "rvJO5v4V3ZOy"
    },
    {
      "cell_type": "code",
      "source": [
        "# !pip install pyyaml # Run this cell if PyYAML is not installed\n",
        "import yaml\n",
        "\n",
        "# Data as a Python dictionary for configuration\n",
        "simple_config = {\n",
        "    \"app_name\": \"DataProcessor\",\n",
        "    \"settings\": {\n",
        "        \"debug_mode\": True,\n",
        "        \"max_threads\": 8\n",
        "    }\n",
        "}\n",
        "\n",
        "# Write dictionary to YAML file\n",
        "with open('simple_config.yaml', 'w') as yaml_file:\n",
        "    yaml.dump(simple_config, yaml_file, sort_keys=False)\n",
        "print(\"Config written to simple_config.yaml\")"
      ],
      "metadata": {
        "id": "rmZNN9K23wJj"
      },
      "id": "rmZNN9K23wJj",
      "execution_count": null,
      "outputs": []
    },
    {
      "cell_type": "markdown",
      "source": [
        "### Reading from a YAML File\n",
        "Use yaml.safe_load() to parse the YAML content."
      ],
      "metadata": {
        "id": "u562y0Oh4JbP"
      },
      "id": "u562y0Oh4JbP"
    },
    {
      "cell_type": "code",
      "source": [
        "# !pip install pyyaml # Run this cell if PyYAML is not installed\n",
        "import yaml\n",
        "\n",
        "# Reading from a YAML file\n",
        "with open('simple_config.yaml', 'r') as yaml_file:\n",
        "    loaded_config = yaml.safe_load(yaml_file)\n",
        "    print(\"\\n--- Content of simple_config.yaml ---\")\n",
        "    print(loaded_config)\n",
        "    print(f\"Debug Mode: {loaded_config['settings']['debug_mode']}\")"
      ],
      "metadata": {
        "id": "fAtfVRqL4Th8"
      },
      "id": "fAtfVRqL4Th8",
      "execution_count": null,
      "outputs": []
    },
    {
      "cell_type": "markdown",
      "id": "25d841d5",
      "metadata": {
        "id": "25d841d5"
      },
      "source": [
        "## 4. Control Flow\n",
        "Control structures allow us to make decisions and repeat actions. Python supports `if`, `for`, and `while` statements."
      ]
    },
    {
      "cell_type": "code",
      "execution_count": null,
      "id": "84b2ae6f",
      "metadata": {
        "id": "84b2ae6f"
      },
      "outputs": [],
      "source": [
        "# Conditional Statements\n",
        "age = int(input(\"Enter your age: \"))\n",
        "if age >= 18:\n",
        "    print(\"You are an adult.\")\n",
        "else:\n",
        "    print(\"You are a minor.\")\n",
        "\n",
        "# Loops\n",
        "print(\"Counting from 0 to 4:\")\n",
        "for i in range(5):\n",
        "    print(i)"
      ]
    },
    {
      "cell_type": "markdown",
      "id": "0c7d02db",
      "metadata": {
        "id": "0c7d02db"
      },
      "source": [
        "## 5. Data Structures\n",
        "Python provides built-in data structures like lists, tuples, and dictionaries for storing and manipulating collections of data."
      ]
    },
    {
      "cell_type": "code",
      "execution_count": null,
      "id": "102bded5",
      "metadata": {
        "id": "102bded5"
      },
      "outputs": [],
      "source": [
        "# List (mutable)\n",
        "fruits = [\"apple\", \"banana\", \"cherry\"]\n",
        "print(\"First fruit:\", fruits[0])\n",
        "\n",
        "# Tuple (immutable)\n",
        "point = (10, 20)\n",
        "print(\"X coordinate:\", point[0])\n",
        "\n",
        "# Dictionary (key-value)\n",
        "person = {\"name\": \"Alice\", \"age\": 25}\n",
        "print(\"Name:\", person[\"name\"])"
      ]
    },
    {
      "cell_type": "markdown",
      "id": "337176cc",
      "metadata": {
        "id": "337176cc"
      },
      "source": [
        "## 6. Functions\n",
        "Functions are blocks of code designed to perform a specific task. They help organize and reuse code."
      ]
    },
    {
      "cell_type": "code",
      "execution_count": null,
      "id": "8fadcf41",
      "metadata": {
        "id": "8fadcf41"
      },
      "outputs": [],
      "source": [
        "def greet(name):\n",
        "    return \"Hello, \" + name\n",
        "\n",
        "print(greet(\"Bob\"))"
      ]
    },
    {
      "cell_type": "markdown",
      "id": "c84e9df2",
      "metadata": {
        "id": "c84e9df2"
      },
      "source": [
        "## 7. Object-Oriented Programming\n",
        "OOP allows structuring programs using classes and objects. It's a powerful way to model real-world entities."
      ]
    },
    {
      "cell_type": "code",
      "execution_count": null,
      "id": "b2ca3de0",
      "metadata": {
        "id": "b2ca3de0"
      },
      "outputs": [],
      "source": [
        "class Student:\n",
        "    def __init__(self, name, grade):\n",
        "        self.name = name\n",
        "        self.grade = grade\n",
        "\n",
        "    def get_info(self):\n",
        "        return f\"{self.name} has grade {self.grade}\"\n",
        "\n",
        "s = Student(\"Alice\", 90)\n",
        "print(s.get_info())"
      ]
    }
  ],
  "metadata": {
    "colab": {
      "provenance": [],
      "include_colab_link": true
    }
  },
  "nbformat": 4,
  "nbformat_minor": 5
}
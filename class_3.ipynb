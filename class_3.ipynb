{
  "cells": [
    {
      "cell_type": "markdown",
      "metadata": {
        "id": "view-in-github",
        "colab_type": "text"
      },
      "source": [
        "<a href=\"https://colab.research.google.com/github/Almonfrey/MAI-Course/blob/main/class_3.ipynb\" target=\"_parent\"><img src=\"https://colab.research.google.com/assets/colab-badge.svg\" alt=\"Open In Colab\"/></a>"
      ]
    },
    {
      "cell_type": "markdown",
      "id": "4c4da94e",
      "metadata": {
        "id": "4c4da94e"
      },
      "source": [
        "# Python for Low-Code Artificial Intelligence Model Training\n",
        "This notebook introduces fundamental Python programming concepts tailored for students beginning their studies in Artificial Intelligence. It covers the basics such as data types, variables, control flow, functions, and object-oriented programming, using clear and practical examples. These foundational skills are essential for understanding and developing AI models in later stages.\n",
        "\n",
        "## Table of Contents\n",
        "\n",
        "* Introduction to Python for AI.\n",
        "\n",
        "* Python Basics: Data Types.\n",
        "\n",
        "* Variables and Constants.\n",
        "\n",
        "* Operators and Expressions.\n",
        "\n",
        "* Input and Output in Python.\n",
        "\n",
        "* Files Input ad Output.\n",
        "\n",
        "* Python Data Structures: Lists, Dictionaries, and NumPy Arrays.\n",
        "\n",
        "* Classes and Objects (Brief Introduction).\n",
        "\n",
        "* Control Flow: Conditionals and Loops.\n",
        "\n",
        "* Functions in Python."
      ]
    },
    {
      "cell_type": "markdown",
      "source": [
        "# 1. Introduction to Python for AI\n",
        "Python is a versatile and widely-used programming language, particularly well-suited for students and professionals working in Artificial Intelligence. Its simplicity, readability, and strong ecosystem make it ideal for building a solid programming foundation.\n",
        "\n",
        "This notebook focuses on core Python concepts that will prepare you to work confidently with code in future AI applications, especially when using low-code tools and frameworks. The emphasis is on understanding the language itself—its syntax, logic, and structure—through clear and practical examples.\n",
        "\n"
      ],
      "metadata": {
        "id": "19ncOm2PWkO6"
      },
      "id": "19ncOm2PWkO6"
    },
    {
      "cell_type": "markdown",
      "id": "634e75b0",
      "metadata": {
        "id": "634e75b0"
      },
      "source": [
        "## 2. Python Basics: Data Types\n",
        "Understanding how Python handles data is crucial.\n",
        "\n",
        "**Data Types**\n",
        "Python automatically infers the data type based on the value assigned. Common data types include:\n",
        "\n",
        "* Integers (int): Whole numbers (e.g., 10, -5).\n",
        "\n",
        "* Floating-point numbers (float): Numbers with decimal points (e.g., 3.14, -0.5).\n",
        "\n",
        "* Strings (str): Sequences of characters (e.g., 'hello', \"AI\").\n",
        "\n",
        "* Booleans (bool): True or False values (e.g., True, False)."
      ]
    },
    {
      "cell_type": "code",
      "execution_count": null,
      "id": "9d8f1a10",
      "metadata": {
        "id": "9d8f1a10"
      },
      "outputs": [],
      "source": [
        "# Integers\n",
        "price = 1500\n",
        "print(f\"Price: {price}, Type: {type(price)}\")\n",
        "\n",
        "# Floats\n",
        "accuracy = 0.925\n",
        "print(f\"Accuracy: {accuracy}, Type: {type(accuracy)}\")\n",
        "\n",
        "# Strings\n",
        "model_name = \"Neural Network\"\n",
        "print(f\"Model Name: {model_name}, Type: {type(model_name)}\")\n",
        "\n",
        "# Booleans\n",
        "is_trained = True\n",
        "print(f\"Is Trained: {is_trained}, Type: {type(is_trained)}\")"
      ]
    },
    {
      "cell_type": "markdown",
      "source": [
        "## 3. Variables and Constants  \n",
        "**Variables** are names assigned to memory locations used to store data. They are represented by **identifiers** and can hold values that may change during the execution of a program.\n",
        "\n",
        "**Constants**, on the other hand, are values that do not change during program execution. Python does not have built-in constant types, but naming conventions (e.g., all-uppercase variable names) are used to indicate that a value should remain unchanged.\n",
        "\n"
      ],
      "metadata": {
        "id": "mVOb0tPPaaZB"
      },
      "id": "mVOb0tPPaaZB"
    },
    {
      "cell_type": "code",
      "source": [
        "# Variables\n",
        "epochs = 10\n",
        "learning_rate = 0.01\n",
        "print(f\"Epochs: {epochs}\")\n",
        "\n",
        "epochs = 20 # Value can be changed\n",
        "print(f\"New Epochs: {epochs}\")\n",
        "\n",
        "# Constants (by convention)\n",
        "BATCH_SIZE = 32\n",
        "RANDOM_STATE = 42\n",
        "print(f\"Batch Size: {BATCH_SIZE}\")"
      ],
      "metadata": {
        "id": "s5VaePJhbmpA"
      },
      "id": "s5VaePJhbmpA",
      "execution_count": null,
      "outputs": []
    },
    {
      "cell_type": "markdown",
      "id": "237dd295",
      "metadata": {
        "id": "237dd295"
      },
      "source": [
        "## 4. Operators and Expressions\n",
        "**Operators** perform operations on variables and values.\n",
        "\n",
        "* Arithmetic Operators: +, -, *, /, % (modulo), ** (exponentiation)\n",
        "\n",
        "* Comparison Operators: ==, !=, >, <, >=, <=\n",
        "\n",
        "* Logical Operators: and, or, not\n",
        "\n",
        "* Assignment Operators: =, +=, -=, *= etc.\n",
        "\n",
        "**Expressions** are combinations of values, variables, and operators that Python evaluates to produce a single result. Every expression returns a value."
      ]
    },
    {
      "cell_type": "markdown",
      "source": [
        "### Arithmetic Operators"
      ],
      "metadata": {
        "id": "8sg_17uBemE_"
      },
      "id": "8sg_17uBemE_"
    },
    {
      "cell_type": "code",
      "execution_count": null,
      "id": "ed734955",
      "metadata": {
        "id": "ed734955"
      },
      "outputs": [],
      "source": [
        "x = 10\n",
        "y = 3\n",
        "\n",
        "# Arithmetic Operators: Perform mathematical calculations\n",
        "print(f\"Addition (x + y): {x + y}\") # (x + y) is an expression\n",
        "print(f\"Division (x / y): {x / y}\") # Returns a float, (x / y) is an expression\n",
        "print(f\"Modulo (x % y): {x % y}\") # Returns the remainder, (x % y) is an expression\n",
        "print(f\"Exponentiation (x ** 2): {x ** 2}\") # x raised to the power of 2, (x ** 2) is an expression"
      ]
    },
    {
      "cell_type": "markdown",
      "source": [
        "### Relational and Logical Operators"
      ],
      "metadata": {
        "id": "KQ9b0br4e1rE"
      },
      "id": "KQ9b0br4e1rE"
    },
    {
      "cell_type": "code",
      "source": [
        "# Comparison Operators: Compare two values and return a Boolean (True/False)\n",
        "is_equal = (x == y) # (x == y) is an expression that returns a boolean\n",
        "print(f\"Is x equal to y? {is_equal}\")\n",
        "is_greater = (x > y) # (x > y) is an expression\n",
        "print(f\"Is x greater than y? {is_greater}\")\n",
        "is_not_equal = (x != y) # (x != y) is an expression\n",
        "print(f\"Is x not equal to y? {is_not_equal}\")\n",
        "\n",
        "# Logical Operators: Combine boolean expressions\n",
        "a = True\n",
        "b = False\n",
        "print(f\"a and b: {a and b}\") # (a and b) is an expression\n",
        "print(f\"a or b: {a or b}\")   # (a or b) is an expression\n",
        "print(f\"not a: {not a}\")     # (not a) is an expression"
      ],
      "metadata": {
        "id": "3Mjafg09e_Mk"
      },
      "id": "3Mjafg09e_Mk",
      "execution_count": null,
      "outputs": []
    },
    {
      "cell_type": "markdown",
      "source": [
        "### Assignment Operators"
      ],
      "metadata": {
        "id": "GuC6Ps8mf2aI"
      },
      "id": "GuC6Ps8mf2aI"
    },
    {
      "cell_type": "code",
      "source": [
        "# Assignment Operators: Assign values to variables\n",
        "\n",
        "# += (Add and assign)\n",
        "data_count = 100\n",
        "data_count += 50 # Equivalent to: data_count = data_count + 50\n",
        "print(f\"data_count += 50 -> {data_count}\") # Expected: 150\n",
        "\n",
        "# -= (Subtract and assign)\n",
        "model_score = 95\n",
        "model_score -= 5 # Equivalent to: model_score = model_score - 5\n",
        "print(f\"model_score -= 5 -> {model_score}\") # Expected: 90\n",
        "\n",
        "# *= (Multiply and assign)\n",
        "learning_rate = 0.01\n",
        "learning_rate *= 2 # Equivalent to: learning_rate = learning_rate * 2\n",
        "print(f\"learning_rate *= 2 -> {learning_rate}\") # Expected: 0.02\n",
        "\n",
        "# /= (Divide and assign)\n",
        "total_loss = 25.0\n",
        "total_loss /= 5 # Equivalent to: total_loss = total_loss / 5\n",
        "print(f\"total_loss /= 5 -> {total_loss}\") # Expected: 5.0"
      ],
      "metadata": {
        "id": "HIbYN7ZWf5V5"
      },
      "id": "HIbYN7ZWf5V5",
      "execution_count": null,
      "outputs": []
    },
    {
      "cell_type": "markdown",
      "source": [
        "## Expressions\n",
        "\n",
        "Beyond basic arithmetic and logical operations, Python offers various powerful ways to construct expressions that simplify code and perform common tasks. Here, we'll delve into several key types of expressions."
      ],
      "metadata": {
        "id": "xMo-TcaHg5OY"
      },
      "id": "xMo-TcaHg5OY"
    },
    {
      "cell_type": "code",
      "source": [
        "# String Concatenation Expression\n",
        "greeting = \"Hello\" + \", \" + \"World!\" # This is an expression that results in a new string\n",
        "print(f\"String Concatenation: {greeting}\")"
      ],
      "metadata": {
        "id": "KErNQ8j1g9LD"
      },
      "id": "KErNQ8j1g9LD",
      "execution_count": null,
      "outputs": []
    },
    {
      "cell_type": "markdown",
      "source": [
        "### List Creation Expression\n",
        "Explanation: Lists are one of Python's most versatile data structures, used to store ordered collections of items. A list creation expression uses square brackets [] to define a new list. This expression evaluates to a new list object, which can be empty or contain initial elements."
      ],
      "metadata": {
        "id": "-oM1sUOUhkQ3"
      },
      "id": "-oM1sUOUhkQ3"
    },
    {
      "cell_type": "code",
      "source": [
        "# List Creation Expression\n",
        "empty_list = [] # An expression that creates an empty list\n",
        "print(f\"Empty list: {empty_list}\")\n",
        "numbers = [1, 2, 3] # An expression that creates a list with elements\n",
        "print(f\"List of numbers: {numbers}\")"
      ],
      "metadata": {
        "id": "esjv5mPDhsG-"
      },
      "id": "esjv5mPDhsG-",
      "execution_count": null,
      "outputs": []
    },
    {
      "cell_type": "markdown",
      "source": [
        "### Chained Comparison Expression\n",
        "Explanation: Python allows for convenient chained comparisons, where multiple comparisons can be combined in a single line. For example, a < b < c is equivalent to (a < b) and (b < c). This expression evaluates to a single boolean value (True or False)."
      ],
      "metadata": {
        "id": "5gyfuFjlhud-"
      },
      "id": "5gyfuFjlhud-"
    },
    {
      "cell_type": "code",
      "source": [
        "# Chained Comparison Expression\n",
        "x = 10 # Assuming x has been defined previously in your notebook, e.g., x = 10\n",
        "is_within_range = (5 < x < 15) # A convenient way to check if x is between 5 and 15 (exclusive)\n",
        "print(f\"Is x between 5 and 15? {is_within_range}\")"
      ],
      "metadata": {
        "id": "dl-i-Bl3h1zH"
      },
      "id": "dl-i-Bl3h1zH",
      "execution_count": null,
      "outputs": []
    },
    {
      "cell_type": "markdown",
      "id": "7279ec7c",
      "metadata": {
        "id": "7279ec7c"
      },
      "source": [
        "## 5. Input and Output in Python\n",
        "Output: print() function\n",
        "The print() function is used to display output to the console."
      ]
    },
    {
      "cell_type": "code",
      "source": [
        "# Using print\n",
        "print(\"Hello, AI World!\")\n",
        "print(\"Training complete.\")\n",
        "\n",
        "# Using f-strings for formatted output (Python 3.6+)\n",
        "model_accuracy = 0.88\n",
        "print(f\"The model achieved an accuracy of {model_accuracy:.2f}.\")"
      ],
      "metadata": {
        "id": "UcnkI2DFzwIk"
      },
      "id": "UcnkI2DFzwIk",
      "execution_count": null,
      "outputs": []
    },
    {
      "cell_type": "markdown",
      "source": [
        "\n",
        "Input: input() function\n",
        "The input() function allows you to get input from the user."
      ],
      "metadata": {
        "id": "EtHz3Udaz0Il"
      },
      "id": "EtHz3Udaz0Il"
    },
    {
      "cell_type": "code",
      "execution_count": null,
      "id": "87172ef7",
      "metadata": {
        "id": "87172ef7"
      },
      "outputs": [],
      "source": [
        "user_name = input(\"Enter your name: \")\n",
        "print(f\"Hello, {user_name}!\")"
      ]
    },
    {
      "cell_type": "markdown",
      "source": [
        "##6. File Input and Output (I/O)\n",
        "Beyond console input/output, real-world AI applications often involve reading data from and writing data to files. Python provides robust capabilities for handling various file formats. This section will demonstrate how to work with .txt, .json, and .yaml files with simplified code."
      ],
      "metadata": {
        "id": "VPKXyQbZ1eij"
      },
      "id": "VPKXyQbZ1eij"
    },
    {
      "cell_type": "markdown",
      "source": [
        "### Working with Text Files (.txt)\n",
        "Text files are the simplest form of file storage, containing plain text."
      ],
      "metadata": {
        "id": "ropEXT7d1wRv"
      },
      "id": "ropEXT7d1wRv"
    },
    {
      "cell_type": "markdown",
      "source": [
        "### Writing to a Text File\n",
        "Use 'w' to write (overwrite) or 'a' to append. The with statement ensures the file closes automatically."
      ],
      "metadata": {
        "id": "1_-XxnzH10P9"
      },
      "id": "1_-XxnzH10P9"
    },
    {
      "cell_type": "code",
      "source": [
        "# Writing to a text file\n",
        "content = \"This is a simple line of text.\\nAnother line for our file.\"\n",
        "with open('simple_report.txt', 'w') as file:\n",
        "    file.write(content)\n",
        "print(\"Content written to simple_report.txt\")\n",
        "\n",
        "# Appending more content\n",
        "with open('simple_report.txt', 'a') as file:\n",
        "    file.write(\"\\n--- Appended content ---\")\n",
        "print(\"Additional content appended.\")"
      ],
      "metadata": {
        "id": "iuZeYKAS142L"
      },
      "id": "iuZeYKAS142L",
      "execution_count": null,
      "outputs": []
    },
    {
      "cell_type": "markdown",
      "source": [
        "### Reading from a Text File\n",
        "Use 'r' to read. file.read() gets the entire content."
      ],
      "metadata": {
        "id": "KeN9u3Af1-Rn"
      },
      "id": "KeN9u3Af1-Rn"
    },
    {
      "cell_type": "code",
      "source": [
        "# Reading from a text file (Without explicit exception handling)\n",
        "# WARNING: This code will cause a FileNotFoundError if 'simple_report.txt' does not exist.\n",
        "with open('simple_report.txt', 'r') as file:\n",
        "    print(\"\\n--- Content of simple_report.txt ---\")\n",
        "    print(file.read())"
      ],
      "metadata": {
        "id": "iYeS2Wri2deH"
      },
      "id": "iYeS2Wri2deH",
      "execution_count": null,
      "outputs": []
    },
    {
      "cell_type": "markdown",
      "source": [
        "### Working with YAML Files (.yaml or .yml)\n",
        "YAML is often used for configuration due to its clean syntax. It also maps well to Python dictionaries and lists. You'll need the PyYAML library.\n",
        "\n",
        "Installation: If not installed, run: !pip install pyyaml"
      ],
      "metadata": {
        "id": "-DvvLi1721s9"
      },
      "id": "-DvvLi1721s9"
    },
    {
      "cell_type": "markdown",
      "source": [
        "### Writing to a YAML File\n",
        "Prepare your data (dictionary/list), then use yaml.dump()."
      ],
      "metadata": {
        "id": "rvJO5v4V3ZOy"
      },
      "id": "rvJO5v4V3ZOy"
    },
    {
      "cell_type": "code",
      "source": [
        "# !pip install pyyaml # Run this cell if PyYAML is not installed\n",
        "import yaml\n",
        "\n",
        "# Data as a Python dictionary for configuration\n",
        "simple_config = {\n",
        "    \"app_name\": \"DataProcessor\",\n",
        "    \"settings\": {\n",
        "        \"debug_mode\": True,\n",
        "        \"max_threads\": 8\n",
        "    }\n",
        "}\n",
        "\n",
        "# Write dictionary to YAML file\n",
        "with open('simple_config.yaml', 'w') as yaml_file:\n",
        "    yaml.dump(simple_config, yaml_file, sort_keys=False)\n",
        "print(\"Config written to simple_config.yaml\")"
      ],
      "metadata": {
        "id": "rmZNN9K23wJj"
      },
      "id": "rmZNN9K23wJj",
      "execution_count": null,
      "outputs": []
    },
    {
      "cell_type": "markdown",
      "source": [
        "### Reading from a YAML File\n",
        "Use yaml.safe_load() to parse the YAML content."
      ],
      "metadata": {
        "id": "u562y0Oh4JbP"
      },
      "id": "u562y0Oh4JbP"
    },
    {
      "cell_type": "code",
      "source": [
        "# !pip install pyyaml # Run this cell if PyYAML is not installed\n",
        "import yaml\n",
        "\n",
        "# Reading from a YAML file\n",
        "with open('simple_config.yaml', 'r') as yaml_file:\n",
        "    loaded_config = yaml.safe_load(yaml_file)\n",
        "    print(\"\\n--- Content of simple_config.yaml ---\")\n",
        "    print(loaded_config)\n",
        "    print(f\"Debug Mode: {loaded_config['settings']['debug_mode']}\")"
      ],
      "metadata": {
        "id": "fAtfVRqL4Th8"
      },
      "id": "fAtfVRqL4Th8",
      "execution_count": null,
      "outputs": []
    },
    {
      "cell_type": "markdown",
      "id": "25d841d5",
      "metadata": {
        "id": "25d841d5"
      },
      "source": [
        "## 7. Control Flow: Conditionals and Loops\n",
        "Control flow statements determine the order in which code is executed."
      ]
    },
    {
      "cell_type": "markdown",
      "source": [
        "### Conditional Statements (if, elif, else)\n",
        "Execute code blocks based on conditions."
      ],
      "metadata": {
        "id": "Ko1T14328ra6"
      },
      "id": "Ko1T14328ra6"
    },
    {
      "cell_type": "code",
      "execution_count": null,
      "id": "84b2ae6f",
      "metadata": {
        "id": "84b2ae6f"
      },
      "outputs": [],
      "source": [
        "accuracy_score = 0.85\n",
        "\n",
        "# Comparing a variable to a number\n",
        "if accuracy_score > 0.90:\n",
        "    print(\"Excellent model performance!\")\n",
        "elif accuracy_score > 0.75:\n",
        "    print(\"Good model performance.\")\n",
        "else:\n",
        "    print(\"Model performance needs improvement.\")\n",
        "\n",
        "# Comparing different variables\n",
        "loss_value = 0.05\n",
        "val_loss_value = 0.10\n",
        "\n",
        "if val_loss_value > loss_value:\n",
        "    print(\"Potential overfitting detected (validation loss is higher than training loss).\")\n",
        "else:\n",
        "    print(\"Model is generalizing well.\")"
      ]
    },
    {
      "cell_type": "markdown",
      "source": [
        "### Loops (for, while)\n",
        "Repeat a block of code multiple times."
      ],
      "metadata": {
        "id": "akky4Xbk9U9J"
      },
      "id": "akky4Xbk9U9J"
    },
    {
      "cell_type": "markdown",
      "source": [
        "### for loop (most common for iterating over collections)"
      ],
      "metadata": {
        "id": "j_fdjFyvEPdt"
      },
      "id": "j_fdjFyvEPdt"
    },
    {
      "cell_type": "code",
      "source": [
        "# Iterating over a list\n",
        "features = [\"RAM\", \"Battery\", \"Camera\"]\n",
        "print(\"Iterating through features:\")\n",
        "for feature in features:\n",
        "    print(f\"- {feature}\")\n",
        "\n",
        "# Iterating with index\n",
        "print(\"\\nIterating through epochs:\")\n",
        "for epoch in range(3): # range(3) generates 0, 1, 2\n",
        "    print(f\"Epoch {epoch + 1} of training...\")"
      ],
      "metadata": {
        "id": "T6ULgp6Q9WqR"
      },
      "id": "T6ULgp6Q9WqR",
      "execution_count": null,
      "outputs": []
    },
    {
      "cell_type": "markdown",
      "source": [
        "### while loop (repeats as long as a condition is true)\\"
      ],
      "metadata": {
        "id": "-vE_msmnEaje"
      },
      "id": "-vE_msmnEaje"
    },
    {
      "cell_type": "code",
      "source": [
        "count = 0\n",
        "print(\"\\nCountdown:\")\n",
        "while count < 3:\n",
        "    print(count)\n",
        "    count += 1\n",
        "print(\"Done!\")"
      ],
      "metadata": {
        "id": "xnhoZbcrEfjY"
      },
      "id": "xnhoZbcrEfjY",
      "execution_count": null,
      "outputs": []
    },
    {
      "cell_type": "markdown",
      "source": [
        "## 8. Python Data Structures: Lists, Dictionaries, and NumPy Arrays\n",
        "These structures are fundamental for organizing and manipulating data in AI applications."
      ],
      "metadata": {
        "id": "kfdzDhsfFBP7"
      },
      "id": "kfdzDhsfFBP7"
    },
    {
      "cell_type": "markdown",
      "source": [
        "### Lists\n",
        "Ordered, mutable collections of items. Can contain different data types."
      ],
      "metadata": {
        "id": "fYTBPwV0FE68"
      },
      "id": "fYTBPwV0FE68"
    },
    {
      "cell_type": "code",
      "source": [
        "# Creating a list\n",
        "features = [\"ram\", \"battery\", \"screen_size\"]\n",
        "print(f\"Features list: {features}\")\n",
        "print(f\"First feature: {features[0]}\")\n",
        "\n",
        "# Adding to a list\n",
        "features.append(\"internal_memory\")\n",
        "print(f\"Updated features: {features}\")\n",
        "\n",
        "# Slicing a list\n",
        "print(f\"First two features: {features[0:2]}\")"
      ],
      "metadata": {
        "id": "VmPQjcioFJaE"
      },
      "id": "VmPQjcioFJaE",
      "execution_count": null,
      "outputs": []
    },
    {
      "cell_type": "markdown",
      "source": [
        "### Dictionaries\n",
        "Unordered, mutable collections of key-value pairs. Keys must be unique and immutable. Often used for configuration or mapping data."
      ],
      "metadata": {
        "id": "qsWROdoYFLNA"
      },
      "id": "qsWROdoYFLNA"
    },
    {
      "cell_type": "code",
      "source": [
        "# Creating a dictionary\n",
        "model_params = {\n",
        "    \"learning_rate\": 0.001,\n",
        "    \"epochs\": 50,\n",
        "    \"optimizer\": \"adam\"\n",
        "}\n",
        "print(f\"Model parameters: {model_params}\")\n",
        "print(f\"Learning rate: {model_params['learning_rate']}\")\n",
        "\n",
        "# Adding/modifying entries\n",
        "model_params[\"activation\"] = \"relu\"\n",
        "print(f\"Updated parameters: {model_params}\")\n"
      ],
      "metadata": {
        "id": "aaorqIYEFOIw"
      },
      "id": "aaorqIYEFOIw",
      "execution_count": null,
      "outputs": []
    },
    {
      "cell_type": "markdown",
      "id": "0c7d02db",
      "metadata": {
        "id": "0c7d02db"
      },
      "source": [
        "### Tuples (Immutable)\n",
        "Explanation: Tuples are ordered collections of items, similar to lists. The key difference is that tuples are immutable, meaning their contents cannot be changed after they are created. They are defined using parentheses (). Tuples are often used for fixed collections of items, such as coordinates or record entries, where the data should not be modified."
      ]
    },
    {
      "cell_type": "code",
      "execution_count": null,
      "id": "102bded5",
      "metadata": {
        "id": "102bded5"
      },
      "outputs": [],
      "source": [
        "# Tuple (immutable)\n",
        "point = (10, 20)\n",
        "print(f\"Original Tuple: {point}\")\n",
        "print(\"X coordinate:\", point[0])\n",
        "print(\"Y coordinate:\", point[1])"
      ]
    },
    {
      "cell_type": "markdown",
      "source": [
        "### NumPy Arrays\n",
        "Explanation: NumPy is the fundamental library for numerical computing in Python, especially for AI. It provides powerful multidimensional array (ndarray) objects. These arrays are highly efficient (fast and memory-saving) compared to Python lists, which is crucial for large datasets in AI.\n",
        "\n",
        "Many top AI libraries (like TensorFlow, Keras, Scikit-learn) are built on or heavily integrate with NumPy arrays. It offers a vast collection of optimized mathematical and statistical operations."
      ],
      "metadata": {
        "id": "_2n1WwmQwKD-"
      },
      "id": "_2n1WwmQwKD-"
    },
    {
      "cell_type": "code",
      "source": [
        "import numpy as np\n",
        "\n",
        "# Creating a NumPy array\n",
        "data_points = np.array([10, 20, 30, 40, 50])\n",
        "print(f\"NumPy array: {data_points}\")\n",
        "print(f\"Shape of array: {data_points.shape}\")\n",
        "\n",
        "# Array operations (element-wise)\n",
        "scaled_data = data_points / 10\n",
        "print(f\"Scaled data: {scaled_data}\")\n",
        "\n",
        "# Multidimensional arrays (e.g., representing datasets)\n",
        "# Imagine a dataset with 3 samples and 2 features\n",
        "dataset_array = np.array([[1.2, 2.5], [3.1, 4.0], [5.5, 6.8]])\n",
        "print(f\"Dataset array:\\n{dataset_array}\")\n",
        "print(f\"Shape: {dataset_array.shape}\")"
      ],
      "metadata": {
        "id": "qWBNaehZwSat"
      },
      "id": "qWBNaehZwSat",
      "execution_count": null,
      "outputs": []
    },
    {
      "cell_type": "markdown",
      "source": [
        "### Pandas DataFrames\n",
        "Pandas is a powerful library for data manipulation and analysis, providing DataFrame objects which are tabular data structures with labeled axes (rows and columns). It's widely used for handling structured datasets.\n",
        "\n"
      ],
      "metadata": {
        "id": "RYiRhvWwww9j"
      },
      "id": "RYiRhvWwww9j"
    },
    {
      "cell_type": "code",
      "source": [
        "import pandas as pd #\n",
        "\n",
        "# Creating a DataFrame from a dictionary\n",
        "data = {\n",
        "    'feature_A': [10, 20, 15, 25],\n",
        "    'feature_B': ['X', 'Y', 'X', 'Z'],\n",
        "    'target': [0.5, 0.8, 0.6, 0.9]\n",
        "}\n",
        "df = pd.DataFrame(data)\n",
        "print(f\"DataFrame:\\n{df}\")\n",
        "\n",
        "# Accessing columns\n",
        "print(f\"\\nFeature A column:\\n{df['feature_A']}\")\n",
        "\n",
        "# Basic data exploration methods (as seen in PDFs)\n",
        "print(f\"\\nDataFrame head:\\n{df.head(2)}\")\n",
        "print(f\"\\nDataFrame description:\\n{df.describe()}\")\n",
        "print(f\"\\nNull values sum:\\n{df.isnull().sum()}\")\n",
        "\n",
        "# Filtering rows\n",
        "print(f\"\\nRows where feature_A > 15:\\n{df[df['feature_A'] > 15]}\")\n",
        "\n",
        "# Dropping missing values (as seen in PDFs)\n",
        "# df_cleaned = df.dropna()"
      ],
      "metadata": {
        "id": "nsX5k1Eywyr2"
      },
      "id": "nsX5k1Eywyr2",
      "execution_count": null,
      "outputs": []
    },
    {
      "cell_type": "markdown",
      "id": "337176cc",
      "metadata": {
        "id": "337176cc"
      },
      "source": [
        "## 9. Functions\n",
        "Functions are blocks of code designed to perform a specific task. They help organize and reuse code."
      ]
    },
    {
      "cell_type": "code",
      "execution_count": null,
      "id": "8fadcf41",
      "metadata": {
        "id": "8fadcf41"
      },
      "outputs": [],
      "source": [
        "def sum_a_b(a, b):\n",
        "    return a + b\n",
        "\n",
        "print(sum(1, 3))"
      ]
    },
    {
      "cell_type": "markdown",
      "source": [
        "## 10. Classes and Objects (Brief Introduction)\n",
        "Object-Oriented Programming (OOP) allows you to model real-world entities. In AI, libraries often provide classes for models, layers, and datasets, which you interact with as objects.\n",
        "\n",
        "Class: A blueprint for creating objects (e.g., Model, Dense, StringLookup).\n",
        "\n",
        "Object: An instance of a class (e.g., my_model = Model(...), dense_layer = Dense(...), string_lookup_layer = StringLookup(...)). Objects have attributes (data) and methods (functions).\n"
      ],
      "metadata": {
        "id": "MQsN9lmbw7tC"
      },
      "id": "MQsN9lmbw7tC"
    },
    {
      "cell_type": "code",
      "source": [
        "# Class Definition\n",
        "# A simple class representing a bank account\n",
        "class BankAccount:\n",
        "    def __init__(self, owner, balance=0):\n",
        "        self.owner = owner\n",
        "        self.balance = balance\n",
        "\n",
        "    def deposit(self, amount):\n",
        "        if amount > 0:\n",
        "            self.balance += amount\n",
        "            print(f\"{self.owner} deposited ${amount}.\")\n",
        "        else:\n",
        "            print(\"Invalid deposit amount.\")\n",
        "\n",
        "    def withdraw(self, amount):\n",
        "        if amount <= self.balance:\n",
        "            self.balance -= amount\n",
        "            print(f\"{self.owner} withdrew ${amount}.\")\n",
        "        else:\n",
        "            print(\"Insufficient funds.\")\n",
        "\n",
        "    def check_balance(self):\n",
        "        print(f\"{self.owner}'s balance is: ${self.balance}\")"
      ],
      "metadata": {
        "id": "SFjMagdQzBBe"
      },
      "id": "SFjMagdQzBBe",
      "execution_count": null,
      "outputs": []
    },
    {
      "cell_type": "markdown",
      "source": [
        "### Bank Account Example (Class and Object)\n",
        "The BankAccount class models a real-world bank account. It has:\n",
        "\n",
        "Attributes:\n",
        "owner (account holder's name) and balance (current amount of money).\n",
        "\n",
        "Methods:\n",
        "deposit() adds money, withdraw() removes money if funds are available, and check_balance() shows the current balance.\n",
        "\n",
        "By creating an object like account = BankAccount(\"Alice\"), we can simulate real banking actions using methods like:"
      ],
      "metadata": {
        "id": "RW4R0WdSx9iQ"
      },
      "id": "RW4R0WdSx9iQ"
    },
    {
      "cell_type": "code",
      "source": [
        "# Example usage:\n",
        "account = BankAccount(\"Alice\")\n",
        "\n",
        "account.check_balance()\n",
        "account.deposit(150)\n",
        "account.withdraw(40)\n",
        "account.check_balance()"
      ],
      "metadata": {
        "id": "RGl94HNvyAq-"
      },
      "id": "RGl94HNvyAq-",
      "execution_count": null,
      "outputs": []
    },
    {
      "cell_type": "markdown",
      "source": [
        "## 11. Conclusions\n",
        "This notebook has guided you through the essential foundational concepts of Python programming. You've explored core elements like:\n",
        "\n",
        "Data Types, Variables, and Operators: Understanding how data is stored and manipulated.\n",
        "\n",
        "Expressions: Recognizing how combinations of values and operators produce results, from basic arithmetic to complex conditional and method calls.\n",
        "\n",
        "Input/Output (I/O): Learning to interact with the user and manage data persistently through various file formats (.txt, .json, .yaml).\n",
        "\n",
        "Fundamental Data Structures: Mastering Lists, Dictionaries, and Tuples for organizing data effectively.\n",
        "\n",
        "NumPy: Getting an introduction to the indispensable library for high-performance numerical computing.\n",
        "\n",
        "By thoroughly practicing these basics, you are building a strong and versatile programming foundation. These concepts are the bedrock upon which more advanced topics, including data analysis, machine learning, and Artificial Intelligence, are built."
      ],
      "metadata": {
        "id": "wi4RTOd0zv6N"
      },
      "id": "wi4RTOd0zv6N"
    }
  ],
  "metadata": {
    "colab": {
      "provenance": [],
      "include_colab_link": true
    }
  },
  "nbformat": 4,
  "nbformat_minor": 5
}
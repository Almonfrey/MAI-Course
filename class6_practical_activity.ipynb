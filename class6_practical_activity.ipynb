{
  "nbformat": 4,
  "nbformat_minor": 0,
  "metadata": {
    "colab": {
      "provenance": [],
      "authorship_tag": "ABX9TyOxaoTHGzqK1Ib9ImzF8qlV",
      "include_colab_link": true
    },
    "kernelspec": {
      "name": "python3",
      "display_name": "Python 3"
    },
    "language_info": {
      "name": "python"
    }
  },
  "cells": [
    {
      "cell_type": "markdown",
      "metadata": {
        "id": "view-in-github",
        "colab_type": "text"
      },
      "source": [
        "<a href=\"https://colab.research.google.com/github/Almonfrey/MAI-Course/blob/main/class6_practical_activity.ipynb\" target=\"_parent\"><img src=\"https://colab.research.google.com/assets/colab-badge.svg\" alt=\"Open In Colab\"/></a>"
      ]
    },
    {
      "cell_type": "markdown",
      "source": [
        "Importing libraries"
      ],
      "metadata": {
        "id": "L3G3R6DkWRtC"
      }
    },
    {
      "cell_type": "code",
      "execution_count": 1,
      "metadata": {
        "id": "IKaYuBBOU3sZ"
      },
      "outputs": [],
      "source": [
        "# Standard imports for data analysis\n",
        "import pandas as pd  # Data processing\n",
        "import numpy as np  # Numerical computing\n",
        "from sklearn.model_selection import train_test_split\n",
        "\n",
        "# Visualization imports\n",
        "import matplotlib.pyplot as plt\n",
        "import seaborn as sns\n",
        "from scipy import stats\n",
        "\n",
        "# Matplotlib configuration for inline display (Jupyter only)\n",
        "%matplotlib inline"
      ]
    },
    {
      "cell_type": "markdown",
      "source": [
        "Load data"
      ],
      "metadata": {
        "id": "4edvBHJsWyYV"
      }
    },
    {
      "cell_type": "code",
      "source": [
        "# Load the housing dataset and display the first 5 rows\n",
        "df = pd.read_csv(\"data/us_house_sales.csv\")\n",
        "print(df.head())"
      ],
      "metadata": {
        "id": "QkcwCG_ZWuis",
        "colab": {
          "base_uri": "https://localhost:8080/"
        },
        "outputId": "1a74ec89-ad26-4c6a-aacc-e5efa6a9c4e7"
      },
      "execution_count": 2,
      "outputs": [
        {
          "output_type": "stream",
          "name": "stdout",
          "text": [
            "      Price                              Address         City  Zipcode State  \\\n",
            "0  $554,217    5926 Oak Ave, San Diego, CA 65383    San Diego    65383    CA   \n",
            "1  $164,454       9583 Oak Ave, Fresno, IL 79339       Fresno    79339    IL   \n",
            "2       NaN   8224 Oak Ave, Sacramento, TX 87393   Sacramento    87393    TX   \n",
            "3  $189,267        232 Oak Ave, Fresno, TX 38666       Fresno    38666    TX   \n",
            "4  $465,778  5446 Pine Rd, Los Angeles, CA 23989  Los Angeles    23989    CA   \n",
            "\n",
            "  Bedrooms Bathrooms Area (Sqft)   Lot Size  Year Built  Days on Market  \\\n",
            "0    1 bds      3 ba         NaN  4757 sqft      1959.0             101   \n",
            "1    1 bds      1 ba         NaN  3615 sqft      1969.0              46   \n",
            "2    6 bds      1 ba   3630 sqft  9369 sqft      1990.0              59   \n",
            "3    2 bds      1 ba   -605 sqft  8804 sqft      1958.0             119   \n",
            "4    0 bds      2 ba   1711 sqft  9260 sqft      2020.0              26   \n",
            "\n",
            "  Property Type   MLS ID               Listing Agent    Status  \\\n",
            "0     Townhouse  Z104635      Alex Johnson - Compass  For Sale   \n",
            "1     Apartment  Z535721    Emily Davis - Century 21      Sold   \n",
            "2     Townhouse  Z900458  Mike Lee - Coldwell Banker  For Sale   \n",
            "3     Apartment  Z318589           John Doe - RE/MAX   Pending   \n",
            "4     Townhouse  Z899716           John Doe - RE/MAX   Pending   \n",
            "\n",
            "                                         Listing URL  \n",
            "0  https://www.zillow.com/homedetails/80374762_zpid/  \n",
            "1  https://www.zillow.com/homedetails/86143665_zpid/  \n",
            "2  https://www.zillow.com/homedetails/37082403_zpid/  \n",
            "3  https://www.zillow.com/homedetails/39318132_zpid/  \n",
            "4  https://www.zillow.com/homedetails/22454634_zpid/  \n"
          ]
        }
      ]
    },
    {
      "cell_type": "markdown",
      "source": [
        "Data formatting"
      ],
      "metadata": {
        "id": "wqoKwytM1LZz"
      }
    },
    {
      "cell_type": "code",
      "source": [
        "import pandas as pd\n",
        "\n",
        "# Display current data types before formatting\n",
        "print('Data types BEFORE formatting:')\n",
        "print(df.dtypes)\n",
        "\n",
        "print(df.head())\n",
        "\n",
        "# 1. Price - remove $ and commas, convert to float\n",
        "df['Price'] = pd.to_numeric(\n",
        "    df['Price'].astype(str).str.replace(r'[\\$,]', '', regex=True),\n",
        "    errors='coerce'\n",
        ").astype(float)\n",
        "\n",
        "print(df.head())\n",
        "\n",
        "# 2. Bedrooms - extract number, allow NaN, use nullable Int type\n",
        "df['Bedrooms'] = pd.to_numeric(\n",
        "    df['Bedrooms'].str.extract(r'(\\d+)')[0],\n",
        "    errors='coerce'\n",
        ").astype(int)\n",
        "\n",
        "# 3. Bathrooms - same as bedrooms\n",
        "df['Bathrooms'] = pd.to_numeric(\n",
        "    df['Bathrooms'].str.extract(r'(\\d+)')[0],\n",
        "    errors='coerce'\n",
        ").astype(int)\n",
        "\n",
        "# 4. Area (Sqft) - remove text and commas, convert to float\n",
        "df['Area (Sqft)'] = pd.to_numeric(\n",
        "    df['Area (Sqft)'].str.replace(r'[^\\d.]', '', regex=True),\n",
        "    errors='coerce'\n",
        ").astype(float)\n",
        "\n",
        "# 5. Lot Size - same as area\n",
        "df['Lot Size'] = pd.to_numeric(\n",
        "    df['Lot Size'].str.replace(r'[^\\d.]', '', regex=True),\n",
        "    errors='coerce'\n",
        ").astype(float)\n",
        "\n",
        "# Verify formatting results\n",
        "print('\\nData types AFTER formatting:')\n",
        "print(df[['Price', 'Bedrooms', 'Bathrooms', 'Area (Sqft)', 'Lot Size']].dtypes)"
      ],
      "metadata": {
        "id": "BVdl_YhH4C05",
        "colab": {
          "base_uri": "https://localhost:8080/"
        },
        "outputId": "874e389f-d90e-43dd-f0f0-dc9a09a6adbf"
      },
      "execution_count": 3,
      "outputs": [
        {
          "output_type": "stream",
          "name": "stdout",
          "text": [
            "Data types BEFORE formatting:\n",
            "Price              object\n",
            "Address            object\n",
            "City               object\n",
            "Zipcode             int64\n",
            "State              object\n",
            "Bedrooms           object\n",
            "Bathrooms          object\n",
            "Area (Sqft)        object\n",
            "Lot Size           object\n",
            "Year Built        float64\n",
            "Days on Market      int64\n",
            "Property Type      object\n",
            "MLS ID             object\n",
            "Listing Agent      object\n",
            "Status             object\n",
            "Listing URL        object\n",
            "dtype: object\n",
            "      Price                              Address         City  Zipcode State  \\\n",
            "0  $554,217    5926 Oak Ave, San Diego, CA 65383    San Diego    65383    CA   \n",
            "1  $164,454       9583 Oak Ave, Fresno, IL 79339       Fresno    79339    IL   \n",
            "2       NaN   8224 Oak Ave, Sacramento, TX 87393   Sacramento    87393    TX   \n",
            "3  $189,267        232 Oak Ave, Fresno, TX 38666       Fresno    38666    TX   \n",
            "4  $465,778  5446 Pine Rd, Los Angeles, CA 23989  Los Angeles    23989    CA   \n",
            "\n",
            "  Bedrooms Bathrooms Area (Sqft)   Lot Size  Year Built  Days on Market  \\\n",
            "0    1 bds      3 ba         NaN  4757 sqft      1959.0             101   \n",
            "1    1 bds      1 ba         NaN  3615 sqft      1969.0              46   \n",
            "2    6 bds      1 ba   3630 sqft  9369 sqft      1990.0              59   \n",
            "3    2 bds      1 ba   -605 sqft  8804 sqft      1958.0             119   \n",
            "4    0 bds      2 ba   1711 sqft  9260 sqft      2020.0              26   \n",
            "\n",
            "  Property Type   MLS ID               Listing Agent    Status  \\\n",
            "0     Townhouse  Z104635      Alex Johnson - Compass  For Sale   \n",
            "1     Apartment  Z535721    Emily Davis - Century 21      Sold   \n",
            "2     Townhouse  Z900458  Mike Lee - Coldwell Banker  For Sale   \n",
            "3     Apartment  Z318589           John Doe - RE/MAX   Pending   \n",
            "4     Townhouse  Z899716           John Doe - RE/MAX   Pending   \n",
            "\n",
            "                                         Listing URL  \n",
            "0  https://www.zillow.com/homedetails/80374762_zpid/  \n",
            "1  https://www.zillow.com/homedetails/86143665_zpid/  \n",
            "2  https://www.zillow.com/homedetails/37082403_zpid/  \n",
            "3  https://www.zillow.com/homedetails/39318132_zpid/  \n",
            "4  https://www.zillow.com/homedetails/22454634_zpid/  \n",
            "      Price                              Address         City  Zipcode State  \\\n",
            "0  554217.0    5926 Oak Ave, San Diego, CA 65383    San Diego    65383    CA   \n",
            "1  164454.0       9583 Oak Ave, Fresno, IL 79339       Fresno    79339    IL   \n",
            "2       NaN   8224 Oak Ave, Sacramento, TX 87393   Sacramento    87393    TX   \n",
            "3  189267.0        232 Oak Ave, Fresno, TX 38666       Fresno    38666    TX   \n",
            "4  465778.0  5446 Pine Rd, Los Angeles, CA 23989  Los Angeles    23989    CA   \n",
            "\n",
            "  Bedrooms Bathrooms Area (Sqft)   Lot Size  Year Built  Days on Market  \\\n",
            "0    1 bds      3 ba         NaN  4757 sqft      1959.0             101   \n",
            "1    1 bds      1 ba         NaN  3615 sqft      1969.0              46   \n",
            "2    6 bds      1 ba   3630 sqft  9369 sqft      1990.0              59   \n",
            "3    2 bds      1 ba   -605 sqft  8804 sqft      1958.0             119   \n",
            "4    0 bds      2 ba   1711 sqft  9260 sqft      2020.0              26   \n",
            "\n",
            "  Property Type   MLS ID               Listing Agent    Status  \\\n",
            "0     Townhouse  Z104635      Alex Johnson - Compass  For Sale   \n",
            "1     Apartment  Z535721    Emily Davis - Century 21      Sold   \n",
            "2     Townhouse  Z900458  Mike Lee - Coldwell Banker  For Sale   \n",
            "3     Apartment  Z318589           John Doe - RE/MAX   Pending   \n",
            "4     Townhouse  Z899716           John Doe - RE/MAX   Pending   \n",
            "\n",
            "                                         Listing URL  \n",
            "0  https://www.zillow.com/homedetails/80374762_zpid/  \n",
            "1  https://www.zillow.com/homedetails/86143665_zpid/  \n",
            "2  https://www.zillow.com/homedetails/37082403_zpid/  \n",
            "3  https://www.zillow.com/homedetails/39318132_zpid/  \n",
            "4  https://www.zillow.com/homedetails/22454634_zpid/  \n",
            "\n",
            "Data types AFTER formatting:\n",
            "Price          float64\n",
            "Bedrooms         int64\n",
            "Bathrooms        int64\n",
            "Area (Sqft)    float64\n",
            "Lot Size       float64\n",
            "dtype: object\n"
          ]
        }
      ]
    },
    {
      "cell_type": "markdown",
      "source": [
        "Data cleaning"
      ],
      "metadata": {
        "id": "FOd1tjYLl-hm"
      }
    },
    {
      "cell_type": "markdown",
      "source": [
        "Check for duplicate records"
      ],
      "metadata": {
        "id": "QEwryNNuzd65"
      }
    },
    {
      "cell_type": "code",
      "source": [
        "# Check for duplicate records\n",
        "\n",
        "# Number of duplicate records BEFORE removal\n",
        "num_duplicates_before = df.duplicated().sum()\n",
        "print(f'\\nNumber of duplicate records BEFORE removal: {num_duplicates_before}')\n",
        "\n",
        "# Remove duplicates\n",
        "df.drop_duplicates(inplace=True)\n",
        "\n",
        "# Number of duplicate records AFTER removal (should be 0)\n",
        "num_duplicates_after = df.duplicated().sum()\n",
        "print(f'Number of duplicate records AFTER removal: {num_duplicates_after}')"
      ],
      "metadata": {
        "id": "hil6mHy2zaVN",
        "colab": {
          "base_uri": "https://localhost:8080/"
        },
        "outputId": "d95c8b6b-c123-45c7-883f-afbfe7b8ccee"
      },
      "execution_count": 4,
      "outputs": [
        {
          "output_type": "stream",
          "name": "stdout",
          "text": [
            "\n",
            "Number of duplicate records BEFORE removal: 9\n",
            "Number of duplicate records AFTER removal: 0\n"
          ]
        }
      ]
    },
    {
      "cell_type": "markdown",
      "source": [
        "Split Dataset"
      ],
      "metadata": {
        "id": "0ggrV1ADRDOs"
      }
    },
    {
      "cell_type": "code",
      "source": [
        "# Splitting data\n",
        "train_set, temp_set = train_test_split(df, test_size=0.3, random_state=42)\n",
        "val_set, test_set = train_test_split(temp_set, test_size=0.5, random_state=42)\n",
        "\n",
        "print(f\"Train set size: {len(train_set)}\")\n",
        "print(f\"Validation set size: {len(val_set)}\")\n",
        "print(f\"Test set size: {len(test_set)}\")"
      ],
      "metadata": {
        "id": "uCIi73KERCyC",
        "colab": {
          "base_uri": "https://localhost:8080/"
        },
        "outputId": "8191fae5-bcb7-4da4-e4b6-042fefa46b7e"
      },
      "execution_count": 5,
      "outputs": [
        {
          "output_type": "stream",
          "name": "stdout",
          "text": [
            "Train set size: 2100\n",
            "Validation set size: 450\n",
            "Test set size: 450\n"
          ]
        }
      ]
    },
    {
      "cell_type": "markdown",
      "source": [
        "Missing value treatment"
      ],
      "metadata": {
        "id": "QzXylQfDl_zy"
      }
    },
    {
      "cell_type": "code",
      "source": [
        "# Missing Value Treatment\n",
        "print('Missing values BEFORE cleaning:')\n",
        "print(train_set.isnull().sum())\n",
        "\n",
        "# Strategy for each column:\n",
        "median_year = train_set['Year Built'].median()\n",
        "train_set.fillna({'Lot Size': train_set['Area (Sqft)'], 'Year Built': median_year}, inplace=True)\n",
        "train_set.dropna(subset=['Price', 'Area (Sqft)', 'Property Type'], inplace=True)\n",
        "\n",
        "print('Missing values AFTER cleaning:')\n",
        "print(train_set.isnull().sum())"
      ],
      "metadata": {
        "id": "3hje8yMVmMRS",
        "colab": {
          "base_uri": "https://localhost:8080/"
        },
        "outputId": "1e069a3f-a763-419d-a1f5-08407961b643"
      },
      "execution_count": 6,
      "outputs": [
        {
          "output_type": "stream",
          "name": "stdout",
          "text": [
            "Missing values BEFORE cleaning:\n",
            "Price              9\n",
            "Address            0\n",
            "City               0\n",
            "Zipcode            0\n",
            "State              0\n",
            "Bedrooms           0\n",
            "Bathrooms          0\n",
            "Area (Sqft)       10\n",
            "Lot Size          14\n",
            "Year Built        20\n",
            "Days on Market     0\n",
            "Property Type     20\n",
            "MLS ID             0\n",
            "Listing Agent      0\n",
            "Status             0\n",
            "Listing URL        0\n",
            "dtype: int64\n",
            "Missing values AFTER cleaning:\n",
            "Price             0\n",
            "Address           0\n",
            "City              0\n",
            "Zipcode           0\n",
            "State             0\n",
            "Bedrooms          0\n",
            "Bathrooms         0\n",
            "Area (Sqft)       0\n",
            "Lot Size          0\n",
            "Year Built        0\n",
            "Days on Market    0\n",
            "Property Type     0\n",
            "MLS ID            0\n",
            "Listing Agent     0\n",
            "Status            0\n",
            "Listing URL       0\n",
            "dtype: int64\n"
          ]
        }
      ]
    },
    {
      "cell_type": "markdown",
      "source": [
        "Removing outliers"
      ],
      "metadata": {
        "id": "T9Di0TIb0HQl"
      }
    },
    {
      "cell_type": "code",
      "source": [
        "# Outlier Detection using the IQR method\n",
        "\n",
        "# Calculate the first (Q1) and third quartiles (Q3) of the 'Price' column\n",
        "Q1 = train_set['Price'].quantile(0.25)\n",
        "Q3 = train_set['Price'].quantile(0.75)\n",
        "\n",
        "# Compute the Interquartile Range (IQR)\n",
        "IQR = Q3 - Q1\n",
        "\n",
        "# Define lower and upper bounds for detecting outliers\n",
        "price_lower_bound = Q1 - 1.5 * IQR\n",
        "price_upper_bound = Q3 + 1.5 * IQR\n",
        "\n",
        "# Print the calculated bounds for reference\n",
        "print(f'\\nPrice bounds for outlier detection: Lower: {price_lower_bound:,.2f}, Upper: {price_upper_bound:,.2f}')\n",
        "\n",
        "# Count outliers BEFORE filtering\n",
        "outliers_before = train_set[(train_set['Price'] < price_lower_bound) | (train_set['Price'] > price_upper_bound)]\n",
        "num_outliers_before = len(outliers_before)\n",
        "print(f'Number of outliers detected before filtering: {num_outliers_before}')\n",
        "\n",
        "# Filter out the outliers\n",
        "train_set = train_set[(train_set['Price'] >= price_lower_bound) & (train_set['Price'] <= price_upper_bound)]\n",
        "\n",
        "# Count outliers AFTER filtering (should be zero)\n",
        "outliers_after = train_set[(train_set['Price'] < price_lower_bound) | (train_set['Price'] > price_upper_bound)]\n",
        "num_outliers_after = len(outliers_after)\n",
        "print(f'Number of outliers detected after filtering: {num_outliers_after}')"
      ],
      "metadata": {
        "id": "8HxJsLp80JiA",
        "colab": {
          "base_uri": "https://localhost:8080/"
        },
        "outputId": "f0750ffe-f513-41a4-cd84-f63d2e754841"
      },
      "execution_count": 7,
      "outputs": [
        {
          "output_type": "stream",
          "name": "stdout",
          "text": [
            "\n",
            "Price bounds for outlier detection: Lower: -566,601.50, Upper: 2,186,410.50\n",
            "Number of outliers detected before filtering: 8\n",
            "Number of outliers detected after filtering: 0\n"
          ]
        }
      ]
    },
    {
      "cell_type": "markdown",
      "source": [
        "Data validity check"
      ],
      "metadata": {
        "id": "hwbumZKntVZL"
      }
    },
    {
      "cell_type": "code",
      "source": [
        "# Data Validity Checks per category\n",
        "\n",
        "# Number of invalid entries BEFORE filtering\n",
        "print(\"Invalid entries BEFORE filtering:\")\n",
        "print(f\"Price: {(train_set['Price'] <= 0).sum()} invalid entries\")\n",
        "print(f\"Area (Sqft): {(train_set['Area (Sqft)'] <= 0).sum()} invalid entries\")\n",
        "print(f\"Bedrooms: {(train_set['Bedrooms'] <= 0).sum()} invalid entries\")\n",
        "print(f\"Year Built: {(train_set['Year Built'] <= 1800).sum()} invalid entries\")\n",
        "\n",
        "# Apply all validity conditions to filter the dataframe\n",
        "train_set = train_set[(train_set['Price'] > 0) &\n",
        "        (train_set['Area (Sqft)'] > 0) &\n",
        "        (train_set['Bedrooms'] > 0) &\n",
        "        (train_set['Year Built'] > 1800)]\n",
        "\n",
        "# Number of invalid entries AFTER filtering (should be zero)\n",
        "print(\"\\nInvalid entries AFTER filtering:\")\n",
        "print(f\"Price: {(train_set['Price'] <= 0).sum()} invalid entries\")\n",
        "print(f\"Area (Sqft): {(train_set['Area (Sqft)'] <= 0).sum()} invalid entries\")\n",
        "print(f\"Bedrooms: {(train_set['Bedrooms'] <= 0).sum()} invalid entries\")\n",
        "print(f\"Year Built: {(train_set['Year Built'] <= 1800).sum()} invalid entries\")"
      ],
      "metadata": {
        "id": "cNTVyOkU00XU",
        "colab": {
          "base_uri": "https://localhost:8080/"
        },
        "outputId": "7154f315-d91d-4c0c-b331-b805be35706c"
      },
      "execution_count": 8,
      "outputs": [
        {
          "output_type": "stream",
          "name": "stdout",
          "text": [
            "Invalid entries BEFORE filtering:\n",
            "Price: 3 invalid entries\n",
            "Area (Sqft): 4 invalid entries\n",
            "Bedrooms: 5 invalid entries\n",
            "Year Built: 3 invalid entries\n",
            "\n",
            "Invalid entries AFTER filtering:\n",
            "Price: 0 invalid entries\n",
            "Area (Sqft): 0 invalid entries\n",
            "Bedrooms: 0 invalid entries\n",
            "Year Built: 0 invalid entries\n"
          ]
        }
      ]
    },
    {
      "cell_type": "markdown",
      "source": [
        "Final check"
      ],
      "metadata": {
        "id": "C72oX8wA1dYG"
      }
    },
    {
      "cell_type": "code",
      "source": [
        "# Final missing value check\n",
        "print('\\nMissing values AFTER cleaning:')\n",
        "print(train_set.isnull().sum())"
      ],
      "metadata": {
        "id": "3g_isvdL1e8J",
        "colab": {
          "base_uri": "https://localhost:8080/"
        },
        "outputId": "f5a4c1f4-920c-4704-db41-0d970299f5fe"
      },
      "execution_count": 9,
      "outputs": [
        {
          "output_type": "stream",
          "name": "stdout",
          "text": [
            "\n",
            "Missing values AFTER cleaning:\n",
            "Price             0\n",
            "Address           0\n",
            "City              0\n",
            "Zipcode           0\n",
            "State             0\n",
            "Bedrooms          0\n",
            "Bathrooms         0\n",
            "Area (Sqft)       0\n",
            "Lot Size          0\n",
            "Year Built        0\n",
            "Days on Market    0\n",
            "Property Type     0\n",
            "MLS ID            0\n",
            "Listing Agent     0\n",
            "Status            0\n",
            "Listing URL       0\n",
            "dtype: int64\n"
          ]
        }
      ]
    },
    {
      "cell_type": "markdown",
      "source": [
        "Exploratory Data Analysis (EDA)"
      ],
      "metadata": {
        "id": "glP2s8TTAMIp"
      }
    },
    {
      "cell_type": "code",
      "source": [
        "# Basic price distribution\n",
        "plt.figure(figsize=(10, 6))\n",
        "sns.histplot(train_set['Price'], bins=50, kde=True)\n",
        "plt.title('Property Price Distribution', fontsize=16)\n",
        "plt.xlabel('Price')\n",
        "plt.ylabel('Frequency')\n",
        "\n",
        "# Append mean and median to the plot (plt)\n",
        "mean_price = train_set['Price'].mean()\n",
        "median_price = train_set['Price'].median()\n",
        "plt.axvline(mean_price, color='r', linestyle='--', label=f\"Mean: ${mean_price:,.2f}\")\n",
        "plt.axvline(median_price, color='g', linestyle='--', label=f\"Median: ${median_price:,.2f}\")\n",
        "\n",
        "plt.legend()\n",
        "plt.show()\n"
      ],
      "metadata": {
        "colab": {
          "base_uri": "https://localhost:8080/",
          "height": 530
        },
        "id": "gYC07EcgAPBO",
        "outputId": "2d138ed0-8900-48c2-b291-3275387734e8"
      },
      "execution_count": 11,
      "outputs": [
        {
          "output_type": "display_data",
          "data": {
            "text/plain": [
              "<Figure size 1000x600 with 1 Axes>"
            ],
            "image/png": "[encoded data removed]"
          },
          "metadata": {}
        }
      ]
    },
    {
      "cell_type": "code",
      "source": [],
      "metadata": {
        "id": "N71FNkF2DyPm"
      },
      "execution_count": null,
      "outputs": []
    }
  ]
}
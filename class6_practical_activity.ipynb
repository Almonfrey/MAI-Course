{
  "nbformat": 4,
  "nbformat_minor": 0,
  "metadata": {
    "colab": {
      "provenance": [],
      "authorship_tag": "ABX9TyO5vGpKFmLIF7ztBjr1MIhb",
      "include_colab_link": true
    },
    "kernelspec": {
      "name": "python3",
      "display_name": "Python 3"
    },
    "language_info": {
      "name": "python"
    }
  },
  "cells": [
    {
      "cell_type": "markdown",
      "metadata": {
        "id": "view-in-github",
        "colab_type": "text"
      },
      "source": [
        "<a href=\"https://colab.research.google.com/github/Almonfrey/MAI-Course/blob/main/class6_practical_activity.ipynb\" target=\"_parent\"><img src=\"https://colab.research.google.com/assets/colab-badge.svg\" alt=\"Open In Colab\"/></a>"
      ]
    },
    {
      "cell_type": "markdown",
      "source": [
        "Importing libraries"
      ],
      "metadata": {
        "id": "L3G3R6DkWRtC"
      }
    },
    {
      "cell_type": "code",
      "execution_count": null,
      "metadata": {
        "id": "IKaYuBBOU3sZ"
      },
      "outputs": [],
      "source": [
        "# Standard imports for data analysis\n",
        "import pandas as pd  # Data processing\n",
        "import numpy as np  # Numerical computing\n",
        "\n",
        "# Visualization imports\n",
        "import matplotlib.pyplot as plt\n",
        "import seaborn as sns\n",
        "from scipy import stats\n",
        "\n",
        "# Matplotlib configuration for inline display (Jupyter only)\n",
        "%matplotlib inline"
      ]
    },
    {
      "cell_type": "markdown",
      "source": [
        "Load data"
      ],
      "metadata": {
        "id": "4edvBHJsWyYV"
      }
    },
    {
      "cell_type": "code",
      "source": [
        "# Load the housing dataset and display the first 5 rows\n",
        "df = pd.read_csv(\"data/us_house_Sales_data.csv\")\n",
        "print(df.head())"
      ],
      "metadata": {
        "id": "QkcwCG_ZWuis",
        "colab": {
          "base_uri": "https://localhost:8080/"
        },
        "outputId": "a100a0b0-c5b0-4c83-9174-69bca474792a"
      },
      "execution_count": null,
      "outputs": [
        {
          "output_type": "stream",
          "name": "stdout",
          "text": [
            "        Price                              Address         City  Zipcode  \\\n",
            "0    $554,217    5926 Oak Ave, San Diego, CA 65383    San Diego    65383   \n",
            "1    $164,454       9583 Oak Ave, Fresno, IL 79339       Fresno    79339   \n",
            "2  $1,249,331   8224 Oak Ave, Sacramento, TX 87393   Sacramento    87393   \n",
            "3    $189,267        232 Oak Ave, Fresno, TX 38666       Fresno    38666   \n",
            "4    $465,778  5446 Pine Rd, Los Angeles, CA 23989  Los Angeles    23989   \n",
            "\n",
            "  State Bedrooms Bathrooms Area (Sqft)   Lot Size  Year Built  Days on Market  \\\n",
            "0    CA    1 bds      3 ba    772 sqft  4757 sqft        1959             101   \n",
            "1    IL    1 bds      1 ba   2348 sqft  3615 sqft        1969              46   \n",
            "2    TX    6 bds      1 ba   3630 sqft  9369 sqft        1990              59   \n",
            "3    TX    2 bds      1 ba    605 sqft  8804 sqft        1958             119   \n",
            "4    CA    3 bds      2 ba   1711 sqft  9260 sqft        2020              26   \n",
            "\n",
            "  Property Type   MLS ID               Listing Agent    Status  \\\n",
            "0     Townhouse  Z104635      Alex Johnson - Compass  For Sale   \n",
            "1     Apartment  Z535721    Emily Davis - Century 21      Sold   \n",
            "2     Townhouse  Z900458  Mike Lee - Coldwell Banker  For Sale   \n",
            "3     Apartment  Z318589           John Doe - RE/MAX   Pending   \n",
            "4     Townhouse  Z899716           John Doe - RE/MAX   Pending   \n",
            "\n",
            "                                         Listing URL  \n",
            "0  https://www.zillow.com/homedetails/80374762_zpid/  \n",
            "1  https://www.zillow.com/homedetails/86143665_zpid/  \n",
            "2  https://www.zillow.com/homedetails/37082403_zpid/  \n",
            "3  https://www.zillow.com/homedetails/39318132_zpid/  \n",
            "4  https://www.zillow.com/homedetails/22454634_zpid/  \n"
          ]
        }
      ]
    },
    {
      "cell_type": "markdown",
      "source": [
        "Data formatting"
      ],
      "metadata": {
        "id": "wqoKwytM1LZz"
      }
    },
    {
      "cell_type": "code",
      "source": [
        "import pandas as pd\n",
        "\n",
        "# Display current data types before formatting\n",
        "print('Data types BEFORE formatting:')\n",
        "print(df.dtypes)\n",
        "\n",
        "df2 = df.copy()\n",
        "\n",
        "# 1. Price - remove $ and commas, convert to float\n",
        "df2['Price'] = pd.to_numeric(\n",
        "    df2['Price'].str.replace(r'[$\\dollar$,]', '', regex=True),\n",
        "    errors='coerce'\n",
        ")\n",
        "\n",
        "# 2. Bedrooms - extract number, allow NaN, use nullable Int type\n",
        "df2['Bedrooms'] = pd.to_numeric(\n",
        "    df2['Bedrooms'].str.extract(r'(\\d+)')[0],\n",
        "    errors='coerce'\n",
        ").astype('Int64')\n",
        "\n",
        "# 3. Bathrooms - same as bedrooms\n",
        "df2['Bathrooms'] = pd.to_numeric(\n",
        "    df2['Bathrooms'].str.extract(r'(\\d+)')[0],\n",
        "    errors='coerce'\n",
        ").astype('Int64')\n",
        "\n",
        "# 4. Area (Sqft) - remove text and commas, convert to float\n",
        "df2['Area (Sqft)'] = pd.to_numeric(\n",
        "    df2['Area (Sqft)'].str.replace(r'[^\\d.]', '', regex=True),\n",
        "    errors='coerce'\n",
        ")\n",
        "\n",
        "# 5. Lot Size - same as area\n",
        "df2['Lot Size'] = pd.to_numeric(\n",
        "    df2['Lot Size'].str.replace(r'[^\\d.]', '', regex=True),\n",
        "    errors='coerce'\n",
        ")\n",
        "\n",
        "# Verify formatting results\n",
        "print('\\nData types AFTER formatting:')\n",
        "print(df2[['Price', 'Bedrooms', 'Bathrooms', 'Area (Sqft)', 'Lot Size']].dtypes)"
      ],
      "metadata": {
        "colab": {
          "base_uri": "https://localhost:8080/"
        },
        "id": "BVdl_YhH4C05",
        "outputId": "7b94a25d-9c49-4be0-b3ce-5030973a316c"
      },
      "execution_count": null,
      "outputs": [
        {
          "output_type": "stream",
          "name": "stdout",
          "text": [
            "Data types BEFORE formatting:\n",
            "Price             object\n",
            "Address           object\n",
            "City              object\n",
            "Zipcode            int64\n",
            "State             object\n",
            "Bedrooms          object\n",
            "Bathrooms         object\n",
            "Area (Sqft)       object\n",
            "Lot Size          object\n",
            "Year Built         int64\n",
            "Days on Market     int64\n",
            "Property Type     object\n",
            "MLS ID            object\n",
            "Listing Agent     object\n",
            "Status            object\n",
            "Listing URL       object\n",
            "dtype: object\n",
            "\n",
            "Data types AFTER formatting:\n",
            "Price          float64\n",
            "Bedrooms         int64\n",
            "Bathrooms        int64\n",
            "Area (Sqft)    float64\n",
            "Lot Size       float64\n",
            "dtype: object\n"
          ]
        },
        {
          "output_type": "stream",
          "name": "stderr",
          "text": [
            "/tmp/ipython-input-93704821.py:9: FutureWarning: Downcasting behavior in `replace` is deprecated and will be removed in a future version. To retain the old behavior, explicitly call `result.infer_objects(copy=False)`. To opt-in to the future behavior, set `pd.set_option('future.no_silent_downcasting', True)`\n",
            "  df2['Price'] = df2['Price'].str.replace(r'[$\\dollar$,]', '', regex=True).replace('', np.nan).astype(float)\n"
          ]
        }
      ]
    }
  ]
}
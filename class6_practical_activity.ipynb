{
  "nbformat": 4,
  "nbformat_minor": 0,
  "metadata": {
    "colab": {
      "provenance": [],
      "authorship_tag": "ABX9TyODVZliK8THLmGg2ymPZvFI",
      "include_colab_link": true
    },
    "kernelspec": {
      "name": "python3",
      "display_name": "Python 3"
    },
    "language_info": {
      "name": "python"
    }
  },
  "cells": [
    {
      "cell_type": "markdown",
      "metadata": {
        "id": "view-in-github",
        "colab_type": "text"
      },
      "source": [
        "<a href=\"https://colab.research.google.com/github/Almonfrey/MAI-Course/blob/main/class6_practical_activity.ipynb\" target=\"_parent\"><img src=\"https://colab.research.google.com/assets/colab-badge.svg\" alt=\"Open In Colab\"/></a>"
      ]
    },
    {
      "cell_type": "markdown",
      "source": [
        "Importing libraries"
      ],
      "metadata": {
        "id": "L3G3R6DkWRtC"
      }
    },
    {
      "cell_type": "code",
      "execution_count": null,
      "metadata": {
        "id": "IKaYuBBOU3sZ"
      },
      "outputs": [],
      "source": [
        "# Standard imports for data analysis\n",
        "import pandas as pd  # Data processing\n",
        "import numpy as np  # Numerical computing\n",
        "\n",
        "# Visualization imports\n",
        "import matplotlib.pyplot as plt\n",
        "import seaborn as sns\n",
        "from scipy import stats\n",
        "\n",
        "# Matplotlib configuration for inline display (Jupyter only)\n",
        "%matplotlib inline"
      ]
    },
    {
      "cell_type": "markdown",
      "source": [
        "Load data"
      ],
      "metadata": {
        "id": "4edvBHJsWyYV"
      }
    },
    {
      "cell_type": "code",
      "source": [
        "# Load the housing dataset and display the first 5 rows\n",
        "df = pd.read_csv(\"data/us_house_sales.csv\")\n",
        "print(df.head())"
      ],
      "metadata": {
        "id": "QkcwCG_ZWuis",
        "colab": {
          "base_uri": "https://localhost:8080/"
        },
        "outputId": "c555431e-d447-415b-e32a-800c8276f041"
      },
      "execution_count": null,
      "outputs": [
        {
          "output_type": "stream",
          "name": "stdout",
          "text": [
            "      Price                              Address         City  Zipcode State  \\\n",
            "0  $554,217    5926 Oak Ave, San Diego, CA 65383    San Diego    65383    CA   \n",
            "1  $164,454       9583 Oak Ave, Fresno, IL 79339       Fresno    79339    IL   \n",
            "2       NaN   8224 Oak Ave, Sacramento, TX 87393   Sacramento    87393    TX   \n",
            "3  $189,267        232 Oak Ave, Fresno, TX 38666       Fresno    38666    TX   \n",
            "4  $465,778  5446 Pine Rd, Los Angeles, CA 23989  Los Angeles    23989    CA   \n",
            "\n",
            "  Bedrooms Bathrooms Area (Sqft)   Lot Size  Year Built  Days on Market  \\\n",
            "0    1 bds      3 ba         NaN  4757 sqft      1959.0             101   \n",
            "1    1 bds      1 ba         NaN  3615 sqft      1969.0              46   \n",
            "2    6 bds      1 ba   3630 sqft  9369 sqft      1990.0              59   \n",
            "3    2 bds      1 ba    605 sqft  8804 sqft      1958.0             119   \n",
            "4    3 bds      2 ba   1711 sqft  9260 sqft      2020.0              26   \n",
            "\n",
            "  Property Type   MLS ID               Listing Agent    Status  \\\n",
            "0     Townhouse  Z104635      Alex Johnson - Compass  For Sale   \n",
            "1     Apartment  Z535721    Emily Davis - Century 21      Sold   \n",
            "2     Townhouse  Z900458  Mike Lee - Coldwell Banker  For Sale   \n",
            "3     Apartment  Z318589           John Doe - RE/MAX   Pending   \n",
            "4     Townhouse  Z899716           John Doe - RE/MAX   Pending   \n",
            "\n",
            "                                         Listing URL  \n",
            "0  https://www.zillow.com/homedetails/80374762_zpid/  \n",
            "1  https://www.zillow.com/homedetails/86143665_zpid/  \n",
            "2  https://www.zillow.com/homedetails/37082403_zpid/  \n",
            "3  https://www.zillow.com/homedetails/39318132_zpid/  \n",
            "4  https://www.zillow.com/homedetails/22454634_zpid/  \n"
          ]
        }
      ]
    },
    {
      "cell_type": "markdown",
      "source": [
        "Data formatting"
      ],
      "metadata": {
        "id": "wqoKwytM1LZz"
      }
    },
    {
      "cell_type": "code",
      "source": [
        "import pandas as pd\n",
        "\n",
        "# Display current data types before formatting\n",
        "print('Data types BEFORE formatting:')\n",
        "print(df.dtypes)\n",
        "\n",
        "print(df.head())\n",
        "\n",
        "# 1. Price - remove $ and commas, convert to float\n",
        "df['Price'] = pd.to_numeric(\n",
        "    df['Price'].astype(str).str.replace(r'[\\$,]', '', regex=True),\n",
        "    errors='coerce'\n",
        ").astype(float)\n",
        "\n",
        "print(df.head())\n",
        "\n",
        "# 2. Bedrooms - extract number, allow NaN, use nullable Int type\n",
        "df['Bedrooms'] = pd.to_numeric(\n",
        "    df['Bedrooms'].str.extract(r'(\\d+)')[0],\n",
        "    errors='coerce'\n",
        ").astype(int)\n",
        "\n",
        "# 3. Bathrooms - same as bedrooms\n",
        "df['Bathrooms'] = pd.to_numeric(\n",
        "    df['Bathrooms'].str.extract(r'(\\d+)')[0],\n",
        "    errors='coerce'\n",
        ").astype(int)\n",
        "\n",
        "# 4. Area (Sqft) - remove text and commas, convert to float\n",
        "df['Area (Sqft)'] = pd.to_numeric(\n",
        "    df['Area (Sqft)'].str.replace(r'[^\\d.]', '', regex=True),\n",
        "    errors='coerce'\n",
        ").astype(float)\n",
        "\n",
        "# 5. Lot Size - same as area\n",
        "df['Lot Size'] = pd.to_numeric(\n",
        "    df['Lot Size'].str.replace(r'[^\\d.]', '', regex=True),\n",
        "    errors='coerce'\n",
        ").astype(float)\n",
        "\n",
        "# Verify formatting results\n",
        "print('\\nData types AFTER formatting:')\n",
        "print(df[['Price', 'Bedrooms', 'Bathrooms', 'Area (Sqft)', 'Lot Size']].dtypes)"
      ],
      "metadata": {
        "colab": {
          "base_uri": "https://localhost:8080/"
        },
        "id": "BVdl_YhH4C05",
        "outputId": "b9c2cc10-3b92-4345-a934-500cb0437a05"
      },
      "execution_count": null,
      "outputs": [
        {
          "output_type": "stream",
          "name": "stdout",
          "text": [
            "Data types BEFORE formatting:\n",
            "Price              object\n",
            "Address            object\n",
            "City               object\n",
            "Zipcode             int64\n",
            "State              object\n",
            "Bedrooms           object\n",
            "Bathrooms          object\n",
            "Area (Sqft)        object\n",
            "Lot Size           object\n",
            "Year Built        float64\n",
            "Days on Market      int64\n",
            "Property Type      object\n",
            "MLS ID             object\n",
            "Listing Agent      object\n",
            "Status             object\n",
            "Listing URL        object\n",
            "dtype: object\n",
            "      Price                              Address         City  Zipcode State  \\\n",
            "0  $554,217    5926 Oak Ave, San Diego, CA 65383    San Diego    65383    CA   \n",
            "1  $164,454       9583 Oak Ave, Fresno, IL 79339       Fresno    79339    IL   \n",
            "2       NaN   8224 Oak Ave, Sacramento, TX 87393   Sacramento    87393    TX   \n",
            "3  $189,267        232 Oak Ave, Fresno, TX 38666       Fresno    38666    TX   \n",
            "4  $465,778  5446 Pine Rd, Los Angeles, CA 23989  Los Angeles    23989    CA   \n",
            "\n",
            "  Bedrooms Bathrooms Area (Sqft)   Lot Size  Year Built  Days on Market  \\\n",
            "0    1 bds      3 ba         NaN  4757 sqft      1959.0             101   \n",
            "1    1 bds      1 ba         NaN  3615 sqft      1969.0              46   \n",
            "2    6 bds      1 ba   3630 sqft  9369 sqft      1990.0              59   \n",
            "3    2 bds      1 ba    605 sqft  8804 sqft      1958.0             119   \n",
            "4    3 bds      2 ba   1711 sqft  9260 sqft      2020.0              26   \n",
            "\n",
            "  Property Type   MLS ID               Listing Agent    Status  \\\n",
            "0     Townhouse  Z104635      Alex Johnson - Compass  For Sale   \n",
            "1     Apartment  Z535721    Emily Davis - Century 21      Sold   \n",
            "2     Townhouse  Z900458  Mike Lee - Coldwell Banker  For Sale   \n",
            "3     Apartment  Z318589           John Doe - RE/MAX   Pending   \n",
            "4     Townhouse  Z899716           John Doe - RE/MAX   Pending   \n",
            "\n",
            "                                         Listing URL  \n",
            "0  https://www.zillow.com/homedetails/80374762_zpid/  \n",
            "1  https://www.zillow.com/homedetails/86143665_zpid/  \n",
            "2  https://www.zillow.com/homedetails/37082403_zpid/  \n",
            "3  https://www.zillow.com/homedetails/39318132_zpid/  \n",
            "4  https://www.zillow.com/homedetails/22454634_zpid/  \n",
            "      Price                              Address         City  Zipcode State  \\\n",
            "0  554217.0    5926 Oak Ave, San Diego, CA 65383    San Diego    65383    CA   \n",
            "1  164454.0       9583 Oak Ave, Fresno, IL 79339       Fresno    79339    IL   \n",
            "2       NaN   8224 Oak Ave, Sacramento, TX 87393   Sacramento    87393    TX   \n",
            "3  189267.0        232 Oak Ave, Fresno, TX 38666       Fresno    38666    TX   \n",
            "4  465778.0  5446 Pine Rd, Los Angeles, CA 23989  Los Angeles    23989    CA   \n",
            "\n",
            "  Bedrooms Bathrooms Area (Sqft)   Lot Size  Year Built  Days on Market  \\\n",
            "0    1 bds      3 ba         NaN  4757 sqft      1959.0             101   \n",
            "1    1 bds      1 ba         NaN  3615 sqft      1969.0              46   \n",
            "2    6 bds      1 ba   3630 sqft  9369 sqft      1990.0              59   \n",
            "3    2 bds      1 ba    605 sqft  8804 sqft      1958.0             119   \n",
            "4    3 bds      2 ba   1711 sqft  9260 sqft      2020.0              26   \n",
            "\n",
            "  Property Type   MLS ID               Listing Agent    Status  \\\n",
            "0     Townhouse  Z104635      Alex Johnson - Compass  For Sale   \n",
            "1     Apartment  Z535721    Emily Davis - Century 21      Sold   \n",
            "2     Townhouse  Z900458  Mike Lee - Coldwell Banker  For Sale   \n",
            "3     Apartment  Z318589           John Doe - RE/MAX   Pending   \n",
            "4     Townhouse  Z899716           John Doe - RE/MAX   Pending   \n",
            "\n",
            "                                         Listing URL  \n",
            "0  https://www.zillow.com/homedetails/80374762_zpid/  \n",
            "1  https://www.zillow.com/homedetails/86143665_zpid/  \n",
            "2  https://www.zillow.com/homedetails/37082403_zpid/  \n",
            "3  https://www.zillow.com/homedetails/39318132_zpid/  \n",
            "4  https://www.zillow.com/homedetails/22454634_zpid/  \n",
            "\n",
            "Data types AFTER formatting:\n",
            "Price          float64\n",
            "Bedrooms         int64\n",
            "Bathrooms        int64\n",
            "Area (Sqft)    float64\n",
            "Lot Size       float64\n",
            "dtype: object\n"
          ]
        }
      ]
    },
    {
      "cell_type": "markdown",
      "source": [
        "Data cleaning"
      ],
      "metadata": {
        "id": "FOd1tjYLl-hm"
      }
    },
    {
      "cell_type": "markdown",
      "source": [
        "Missing value treatment"
      ],
      "metadata": {
        "id": "QzXylQfDl_zy"
      }
    },
    {
      "cell_type": "code",
      "source": [
        "# Missing Value Treatment\n",
        "print('Missing values BEFORE cleaning:')\n",
        "print(df.isnull().sum())\n",
        "\n",
        "# Strategy for each column:\n",
        "median_year = df['Year Built'].median()\n",
        "df.fillna({'Lot Size': df['Area (Sqft)'], 'Year Built': median_year}, inplace=True)\n",
        "df.dropna(subset=['Price', 'Area (Sqft)', 'Property Type'], inplace=True)\n",
        "\n",
        "print('Missing values AFTER cleaning:')\n",
        "print(df.isnull().sum())"
      ],
      "metadata": {
        "colab": {
          "base_uri": "https://localhost:8080/"
        },
        "id": "3hje8yMVmMRS",
        "outputId": "842f7a25-099b-454e-a5b3-c824a6a750eb"
      },
      "execution_count": null,
      "outputs": [
        {
          "output_type": "stream",
          "name": "stdout",
          "text": [
            "Missing values BEFORE cleaning:\n",
            "Price             13\n",
            "Address            0\n",
            "City               0\n",
            "Zipcode            0\n",
            "State              0\n",
            "Bedrooms           0\n",
            "Bathrooms          0\n",
            "Area (Sqft)       15\n",
            "Lot Size          19\n",
            "Year Built        27\n",
            "Days on Market     0\n",
            "Property Type     27\n",
            "MLS ID             0\n",
            "Listing Agent      0\n",
            "Status             0\n",
            "Listing URL        0\n",
            "dtype: int64\n",
            "Missing values AFTER cleaning:\n",
            "Price             0\n",
            "Address           0\n",
            "City              0\n",
            "Zipcode           0\n",
            "State             0\n",
            "Bedrooms          0\n",
            "Bathrooms         0\n",
            "Area (Sqft)       0\n",
            "Lot Size          0\n",
            "Year Built        0\n",
            "Days on Market    0\n",
            "Property Type     0\n",
            "MLS ID            0\n",
            "Listing Agent     0\n",
            "Status            0\n",
            "Listing URL       0\n",
            "dtype: int64\n"
          ]
        }
      ]
    },
    {
      "cell_type": "markdown",
      "source": [
        "Removing outliers"
      ],
      "metadata": {
        "id": "T9Di0TIb0HQl"
      }
    },
    {
      "cell_type": "code",
      "source": [
        "Q1 = df['Price'].quantile(0.25)\n",
        "Q3 = df['Price'].quantile(0.75)\n",
        "IQR = Q3 - Q1\n",
        "\n",
        "price_lower_bound = Q1 - 1.5 * IQR\n",
        "price_upper_bound = Q3 + 1.5 * IQR\n",
        "\n",
        "print(f'\\nPrice bounds for outlier detection: Lower{price_lower_bound:,.2f}, Upper{price_upper_bound:,.2f}')\n",
        "\n",
        "df = df[(df['Price'] >= price_lower_bound) & (df['Price'] <= price_upper_bound)]"
      ],
      "metadata": {
        "colab": {
          "base_uri": "https://localhost:8080/"
        },
        "id": "8HxJsLp80JiA",
        "outputId": "8973ed2a-8127-4bd9-ded9-d93e7b730272"
      },
      "execution_count": null,
      "outputs": [
        {
          "output_type": "stream",
          "name": "stdout",
          "text": [
            "\n",
            "Price bounds for outlier detection: Lower-562,417.00, Upper2,192,415.00\n"
          ]
        }
      ]
    }
  ]
}